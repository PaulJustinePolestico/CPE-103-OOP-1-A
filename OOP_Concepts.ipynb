{
  "nbformat": 4,
  "nbformat_minor": 0,
  "metadata": {
    "colab": {
      "provenance": [],
      "authorship_tag": "ABX9TyMMhPtm/Jt5fWm2ai9LJDYf",
      "include_colab_link": true
    },
    "kernelspec": {
      "name": "python3",
      "display_name": "Python 3"
    },
    "language_info": {
      "name": "python"
    }
  },
  "cells": [
    {
      "cell_type": "markdown",
      "metadata": {
        "id": "view-in-github",
        "colab_type": "text"
      },
      "source": [
        "<a href=\"https://colab.research.google.com/github/PaulJustinePolestico/CPE-103-OOP-1-A/blob/main/OOP_Concepts.ipynb\" target=\"_parent\"><img src=\"https://colab.research.google.com/assets/colab-badge.svg\" alt=\"Open In Colab\"/></a>"
      ]
    },
    {
      "cell_type": "code",
      "execution_count": 235,
      "metadata": {
        "id": "Nl49Jv1957Du"
      },
      "outputs": [],
      "source": [
        "#Class Constructor\n",
        "class Car:\n",
        "  pass"
      ]
    },
    {
      "cell_type": "code",
      "source": [
        "#Class Behavior\n",
        "class Car:\n",
        "  def __init__(self,name,color,type,model,year):\n",
        "\n",
        "    self.color=color\n",
        "    self.type=type\n",
        "    self.model=model\n",
        "    self.year=year\n",
        "\n",
        "obj =Car(name=\"a\",color=\"b\",type=\"c\",model=\"d\",year=2024)\n",
        ""
      ],
      "metadata": {
        "id": "XXq0bjUJ8V3p"
      },
      "execution_count": 236,
      "outputs": []
    },
    {
      "cell_type": "markdown",
      "source": [
        "Methods\n"
      ],
      "metadata": {
        "id": "LgCXCZhr9mz3"
      }
    },
    {
      "cell_type": "code",
      "source": [
        "class Car:\n",
        "    car_type= \"Sedan\"\n",
        "\n",
        "    def __init__(self,name,mileage):\n",
        "     self.name=name\n",
        "     self.mileage=mileage\n",
        "\n",
        "    def description(self):\n",
        "      return \"The (self.name) car gives the mileage of (self.mileage)km/l\"\n",
        "\n",
        "      def max_speed(self,speed):\n",
        "        return \"The maximum speed is (speed) km/h\""
      ],
      "metadata": {
        "id": "ZAn8e9DV9oqg"
      },
      "execution_count": 237,
      "outputs": []
    },
    {
      "cell_type": "markdown",
      "source": [
        "Multiple Objects"
      ],
      "metadata": {
        "id": "rQ04rsNY_beZ"
      }
    },
    {
      "cell_type": "code",
      "source": [
        "class Car: #parent class\n",
        "    def __init__(self,name,mileage):\n",
        "        self.name=name\n",
        "        self.mileage=mileage\n",
        "\n",
        "    def description(self):\n",
        "        return f\"(The ({self.name}) car gives the mileage of ({self.mileage})km/L)\"\n",
        "\n",
        "\n",
        "class Honda(Car): #Child class\n",
        "    pass\n",
        "\n",
        "\n",
        "class Suzuki(Car): #child class\n",
        "    def suzuki_desc(self):\n",
        "        return\"This is the description method of the Suzuki class.\"\n",
        "\n",
        "honda = Honda(\"Honda Civic\", 12)\n",
        "print(honda.description())\n",
        "\n",
        "suzuki = Suzuki(\"Suzuki Cultus\", 13)\n",
        "print(suzuki.description())"
      ],
      "metadata": {
        "colab": {
          "base_uri": "https://localhost:8080/"
        },
        "id": "OdwOeExW_dkg",
        "outputId": "297c2796-a395-436b-9c9f-d46f568100f9"
      },
      "execution_count": 238,
      "outputs": [
        {
          "output_type": "stream",
          "name": "stdout",
          "text": [
            "(The (Honda Civic) car gives the mileage of (12)km/L)\n",
            "(The (Suzuki Cultus) car gives the mileage of (13)km/L)\n"
          ]
        }
      ]
    },
    {
      "cell_type": "markdown",
      "source": [
        "Apply the OOP Concept like class Constructor, methods, inheritance to describe the sides of shapes (e.g Triangle, Square, Rectangle)"
      ],
      "metadata": {
        "id": "kq75UAU_EUVX"
      }
    },
    {
      "cell_type": "code",
      "source": [
        "class shapes:\n",
        "    def __init__(self,name_of_shape,sides):\n",
        "        self.name_of_shape=name_of_shape\n",
        "        self.sides=sides\n",
        "\n",
        "    def description(self):\n",
        "        return f\"(The {self.name_of_shape} have {self.sides} sides)\"\n",
        "\n",
        "class Oval(shapes): #child class\n",
        "    pass\n",
        "\n",
        "class Rhombus(shapes): #child class\n",
        "    def Rhombus_desc(self):\n",
        "        return f\"This is the description method of the Rhombus Class.\"\n",
        "\n",
        "class Heptagon(shapes): #child class\n",
        "    def Heptagon_desc(self):\n",
        "        return f\"This is the description method of the Heptagon Class\"\n",
        "\n",
        "\n",
        "\n",
        "oval=Oval(\"oval\",0)\n",
        "print(oval.description())\n",
        "\n",
        "rhombus=Rhombus(\"Rhombus\",4)\n",
        "print(rhombus.description())\n",
        "\n",
        "heptagon=Heptagon(\"Heptagon\",7)\n",
        "print(heptagon.description())"
      ],
      "metadata": {
        "colab": {
          "base_uri": "https://localhost:8080/"
        },
        "id": "z9iMm9IFEfFH",
        "outputId": "3af9a461-31f8-420a-e7a1-fe72436e9c3b"
      },
      "execution_count": 239,
      "outputs": [
        {
          "output_type": "stream",
          "name": "stdout",
          "text": [
            "(The oval have 0 sides)\n",
            "(The Rhombus have 4 sides)\n",
            "(The Heptagon have 7 sides)\n"
          ]
        }
      ]
    }
  ]
}