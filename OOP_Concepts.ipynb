{
  "nbformat": 4,
  "nbformat_minor": 0,
  "metadata": {
    "colab": {
      "provenance": [],
      "authorship_tag": "ABX9TyO0/X7l2VvRcEBjhprYGDLL",
      "include_colab_link": true
    },
    "kernelspec": {
      "name": "python3",
      "display_name": "Python 3"
    },
    "language_info": {
      "name": "python"
    }
  },
  "cells": [
    {
      "cell_type": "markdown",
      "metadata": {
        "id": "view-in-github",
        "colab_type": "text"
      },
      "source": [
        "<a href=\"https://colab.research.google.com/github/PaulJustinePolestico/CPE-103-OOP-1-A/blob/main/OOP_Concepts.ipynb\" target=\"_parent\"><img src=\"https://colab.research.google.com/assets/colab-badge.svg\" alt=\"Open In Colab\"/></a>"
      ]
    },
    {
      "cell_type": "code",
      "execution_count": 7,
      "metadata": {
        "id": "Nl49Jv1957Du"
      },
      "outputs": [],
      "source": [
        "#Class Constructor\n",
        "class Car:\n",
        "  pass"
      ]
    },
    {
      "cell_type": "code",
      "source": [
        "\n",
        "#Class Behavior\n",
        "class Car:\n",
        "  def__init__(self,name,color,type,model,year):\n",
        "    self.name= name\n",
        "    self.color= color\n",
        "    self.type= type\n",
        "    self.model= model\n",
        "    self.year= year\n",
        "obj = Car(name=\"a\",color=\"b\",type=\"c\",model=\"d\",year=2024)\n",
        "    self.type= type\n",
        "    self.model= model\n",
        "    self.year= year\n",
        "obj = Car(name=\"a\",color=\"b\",type=\"c\",model=\"d\",year=2024)\n",
        "  self.type= type\n",
        "  self.model= model\n",
        "  self.year= year\n"
      ],
      "metadata": {
        "colab": {
          "base_uri": "https://localhost:8080/",
          "height": 106
        },
        "id": "XXq0bjUJ8V3p",
        "outputId": "f27412ad-d5a8-4d18-ded3-15630c529668"
      },
      "execution_count": 111,
      "outputs": [
        {
          "output_type": "error",
          "ename": "SyntaxError",
          "evalue": "invalid syntax (<ipython-input-111-079ecf2e8133>, line 3)",
          "traceback": [
            "\u001b[0;36m  File \u001b[0;32m\"<ipython-input-111-079ecf2e8133>\"\u001b[0;36m, line \u001b[0;32m3\u001b[0m\n\u001b[0;31m    def__init__(self,name,color,type,model,year):\u001b[0m\n\u001b[0m                                                ^\u001b[0m\n\u001b[0;31mSyntaxError\u001b[0m\u001b[0;31m:\u001b[0m invalid syntax\n"
          ]
        }
      ]
    },
    {
      "cell_type": "markdown",
      "source": [
        "Methods\n"
      ],
      "metadata": {
        "id": "LgCXCZhr9mz3"
      }
    },
    {
      "cell_type": "code",
      "source": [
        "class Car:\n",
        "    car_type= \"Sedan\"\n",
        "\n",
        "    def __init__(self,name,mileage):\n",
        "     self.name=name\n",
        "     self.mileage=mileage\n",
        "\n",
        "    def description(self):\n",
        "      return \"The (self.name) car gives the mileage of (self.mileage)km/l\"\n",
        "\n",
        "      def max_speed(self,speed):\n",
        "        return \"The maximum speed is (speed) km/h\""
      ],
      "metadata": {
        "id": "ZAn8e9DV9oqg"
      },
      "execution_count": 101,
      "outputs": []
    },
    {
      "cell_type": "markdown",
      "source": [
        "Multiple Objects"
      ],
      "metadata": {
        "id": "rQ04rsNY_beZ"
      }
    },
    {
      "cell_type": "code",
      "source": [
        "class Car: #parent class\n",
        "    def __init__(self,name,mileage):\n",
        "        self.name=name\n",
        "        self.mileage=mileage\n",
        "\n",
        "    def description(self):\n",
        "        return f\"(The ({self.name}) car gives the mileage of ({self.mileage})km/L)\"\n",
        "\n",
        "# Honda class should be at the same level as the Car class, not inside it\n",
        "class Honda(Car): #Child class\n",
        "    pass\n",
        "\n",
        "# Suzuki class should also be at the same level as Car class\n",
        "class Suzuki(Car): #child class\n",
        "    def suzuki_desc(self):\n",
        "        return\"This is the description method of the Suzuki class.\"\n",
        "\n",
        "    # Overriding the description method in Suzuki class, ensure proper indentation\n",
        "    def description(self):\n",
        "        return\"(The (self.name) car gives the mileage of (self.mileage)km/L)\"\n",
        "\n",
        "# Instantiation and method calls outside class definitions, ensure proper indentation\n",
        "honda = Honda(\"Honda Civic\", 12) # Pass string arguments\n",
        "print(honda.description())\n",
        "\n",
        "obj2 = Suzuki(\"Suzuki Cultus\", 13) # Pass string arguments\n",
        "print(obj2.description()) # Call description method on obj2\n",
        "print(obj2.suzuki_desc()) # Call suzuki_desc method on obj2"
      ],
      "metadata": {
        "colab": {
          "base_uri": "https://localhost:8080/"
        },
        "id": "OdwOeExW_dkg",
        "outputId": "91d2181b-1c8d-4e36-add9-6f8c63d74bb8"
      },
      "execution_count": 103,
      "outputs": [
        {
          "output_type": "stream",
          "name": "stdout",
          "text": [
            "(The (Honda Civic) car gives the mileage of (12)km/L)\n",
            "(The (self.name) car gives the mileage of (self.mileage)km/L)\n",
            "This is the description method of the Suzuki class.\n"
          ]
        }
      ]
    }
  ]
}