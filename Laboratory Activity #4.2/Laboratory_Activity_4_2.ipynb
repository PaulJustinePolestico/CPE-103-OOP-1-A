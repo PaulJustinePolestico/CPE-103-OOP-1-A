{
  "nbformat": 4,
  "nbformat_minor": 0,
  "metadata": {
    "colab": {
      "provenance": [],
      "authorship_tag": "ABX9TyM5iL/bywP3GcMk9kd2NFbU",
      "include_colab_link": true
    },
    "kernelspec": {
      "name": "python3",
      "display_name": "Python 3"
    },
    "language_info": {
      "name": "python"
    }
  },
  "cells": [
    {
      "cell_type": "markdown",
      "metadata": {
        "id": "view-in-github",
        "colab_type": "text"
      },
      "source": [
        "<a href=\"https://colab.research.google.com/github/PaulJustinePolestico/CPE-103-OOP-1-A/blob/main/Laboratory_Activity_4_2.ipynb\" target=\"_parent\"><img src=\"https://colab.research.google.com/assets/colab-badge.svg\" alt=\"Open In Colab\"/></a>"
      ]
    },
    {
      "cell_type": "markdown",
      "source": [
        "Procedures"
      ],
      "metadata": {
        "id": "sA_7YXg9aCrC"
      }
    },
    {
      "cell_type": "markdown",
      "source": [
        "A string is a sequence"
      ],
      "metadata": {
        "id": "iLgTrVm_aWYx"
      }
    },
    {
      "cell_type": "code",
      "execution_count": 82,
      "metadata": {
        "id": "lBaUberxYykN"
      },
      "outputs": [],
      "source": [
        "fruit = 'banana'\n",
        "letter = fruit[1]"
      ]
    },
    {
      "cell_type": "code",
      "source": [
        "print(letter)"
      ],
      "metadata": {
        "colab": {
          "base_uri": "https://localhost:8080/"
        },
        "id": "vQhFAU28aMqp",
        "outputId": "ef233abb-69c8-4a17-9e79-c78d8fea92b3"
      },
      "execution_count": 83,
      "outputs": [
        {
          "output_type": "stream",
          "name": "stdout",
          "text": [
            "a\n"
          ]
        }
      ]
    },
    {
      "cell_type": "code",
      "source": [
        "letter = fruit [0]\n",
        "print (letter)"
      ],
      "metadata": {
        "colab": {
          "base_uri": "https://localhost:8080/"
        },
        "id": "WQmY96m1aRkQ",
        "outputId": "2c05dcf8-f2f4-446b-963b-b95621561b75"
      },
      "execution_count": 84,
      "outputs": [
        {
          "output_type": "stream",
          "name": "stdout",
          "text": [
            "b\n"
          ]
        }
      ]
    },
    {
      "cell_type": "code",
      "source": [
        "letter = fruit [1.5]"
      ],
      "metadata": {
        "colab": {
          "base_uri": "https://localhost:8080/",
          "height": 141
        },
        "id": "4Iaqb6bCb_aC",
        "outputId": "84368f1f-014f-4a14-f08e-362aa5a12bf4"
      },
      "execution_count": 86,
      "outputs": [
        {
          "output_type": "error",
          "ename": "TypeError",
          "evalue": "string indices must be integers, not 'float'",
          "traceback": [
            "\u001b[0;31m---------------------------------------------------------------------------\u001b[0m",
            "\u001b[0;31mTypeError\u001b[0m                                 Traceback (most recent call last)",
            "\u001b[0;32m<ipython-input-86-dbd724845d5b>\u001b[0m in \u001b[0;36m<cell line: 0>\u001b[0;34m()\u001b[0m\n\u001b[0;32m----> 1\u001b[0;31m \u001b[0mletter\u001b[0m \u001b[0;34m=\u001b[0m \u001b[0mfruit\u001b[0m \u001b[0;34m[\u001b[0m\u001b[0;36m1.5\u001b[0m\u001b[0;34m]\u001b[0m\u001b[0;34m\u001b[0m\u001b[0;34m\u001b[0m\u001b[0m\n\u001b[0m",
            "\u001b[0;31mTypeError\u001b[0m: string indices must be integers, not 'float'"
          ]
        }
      ]
    },
    {
      "cell_type": "markdown",
      "source": [
        "Getting the length of a string using len"
      ],
      "metadata": {
        "id": "RJnVSg04cYsq"
      }
    },
    {
      "cell_type": "code",
      "source": [
        "fruit = 'banana'\n",
        "len(fruit)"
      ],
      "metadata": {
        "colab": {
          "base_uri": "https://localhost:8080/"
        },
        "id": "Bwal7fJgcdFJ",
        "outputId": "cc678784-893a-4567-ef39-5bf33e5a3da5"
      },
      "execution_count": 29,
      "outputs": [
        {
          "output_type": "execute_result",
          "data": {
            "text/plain": [
              "6"
            ]
          },
          "metadata": {},
          "execution_count": 29
        }
      ]
    },
    {
      "cell_type": "code",
      "source": [
        "length = len(fruit)\n",
        "last = fruit [length]"
      ],
      "metadata": {
        "colab": {
          "base_uri": "https://localhost:8080/",
          "height": 159
        },
        "id": "PKzrtqfIcuiK",
        "outputId": "caebaa92-77bd-486d-88c5-4a1a3703eb2f"
      },
      "execution_count": 38,
      "outputs": [
        {
          "output_type": "error",
          "ename": "IndexError",
          "evalue": "string index out of range",
          "traceback": [
            "\u001b[0;31m---------------------------------------------------------------------------\u001b[0m",
            "\u001b[0;31mIndexError\u001b[0m                                Traceback (most recent call last)",
            "\u001b[0;32m<ipython-input-38-2af182d0cfed>\u001b[0m in \u001b[0;36m<cell line: 0>\u001b[0;34m()\u001b[0m\n\u001b[1;32m      1\u001b[0m \u001b[0mlength\u001b[0m \u001b[0;34m=\u001b[0m \u001b[0mlen\u001b[0m\u001b[0;34m(\u001b[0m\u001b[0mfruit\u001b[0m\u001b[0;34m)\u001b[0m\u001b[0;34m\u001b[0m\u001b[0;34m\u001b[0m\u001b[0m\n\u001b[0;32m----> 2\u001b[0;31m \u001b[0mlast\u001b[0m \u001b[0;34m=\u001b[0m \u001b[0mfruit\u001b[0m \u001b[0;34m[\u001b[0m\u001b[0mlength\u001b[0m\u001b[0;34m]\u001b[0m\u001b[0;34m\u001b[0m\u001b[0;34m\u001b[0m\u001b[0m\n\u001b[0m",
            "\u001b[0;31mIndexError\u001b[0m: string index out of range"
          ]
        }
      ]
    },
    {
      "cell_type": "code",
      "source": [
        "last = fruit [length-1]\n",
        "print (last)"
      ],
      "metadata": {
        "colab": {
          "base_uri": "https://localhost:8080/"
        },
        "id": "ynfdgLH2c7hS",
        "outputId": "2a4d8d37-0a74-4253-c9ed-a1122190474e"
      },
      "execution_count": 37,
      "outputs": [
        {
          "output_type": "stream",
          "name": "stdout",
          "text": [
            "a\n"
          ]
        }
      ]
    },
    {
      "cell_type": "markdown",
      "source": [
        "Traversal through a string with a loop"
      ],
      "metadata": {
        "id": "6eGRoObfd3FK"
      }
    },
    {
      "cell_type": "code",
      "source": [
        "index = 0\n",
        "while index < len(fruit):\n",
        "  letter = fruit[index]\n",
        "  print (letter)\n",
        "  index = index + 1"
      ],
      "metadata": {
        "colab": {
          "base_uri": "https://localhost:8080/"
        },
        "id": "xSDK5xwid8-p",
        "outputId": "4ba3fe2e-109e-42a5-feec-0110c56f8a7f"
      },
      "execution_count": 48,
      "outputs": [
        {
          "output_type": "stream",
          "name": "stdout",
          "text": [
            "b\n",
            "a\n",
            "n\n",
            "a\n",
            "n\n",
            "a\n"
          ]
        }
      ]
    },
    {
      "cell_type": "code",
      "source": [
        "for char in fruit:\n",
        "  print (char)"
      ],
      "metadata": {
        "colab": {
          "base_uri": "https://localhost:8080/"
        },
        "id": "pCPnVm1qeOlq",
        "outputId": "4f96f3bd-8830-4ccc-ed4d-ba702ba019a6"
      },
      "execution_count": 49,
      "outputs": [
        {
          "output_type": "stream",
          "name": "stdout",
          "text": [
            "b\n",
            "a\n",
            "n\n",
            "a\n",
            "n\n",
            "a\n"
          ]
        }
      ]
    },
    {
      "cell_type": "markdown",
      "source": [
        "String Slices"
      ],
      "metadata": {
        "id": "iGvnxQPDeiHp"
      }
    },
    {
      "cell_type": "code",
      "source": [
        "s = 'Monty Phyton'\n",
        "print (s[0:5])"
      ],
      "metadata": {
        "colab": {
          "base_uri": "https://localhost:8080/"
        },
        "id": "3vrOifCkejWB",
        "outputId": "be6ff492-962c-48ce-8ca7-057511dd4db7"
      },
      "execution_count": 50,
      "outputs": [
        {
          "output_type": "stream",
          "name": "stdout",
          "text": [
            "Monty\n"
          ]
        }
      ]
    },
    {
      "cell_type": "code",
      "source": [
        "print (s[6:12])\n"
      ],
      "metadata": {
        "colab": {
          "base_uri": "https://localhost:8080/"
        },
        "id": "ZEcyrg4PeonZ",
        "outputId": "d2ff5ff3-ffca-484a-edf8-f98374abbdd7"
      },
      "execution_count": 51,
      "outputs": [
        {
          "output_type": "stream",
          "name": "stdout",
          "text": [
            "Phyton\n"
          ]
        }
      ]
    },
    {
      "cell_type": "code",
      "source": [
        "fruit = 'banana'\n",
        "fruit [:3]"
      ],
      "metadata": {
        "colab": {
          "base_uri": "https://localhost:8080/",
          "height": 35
        },
        "id": "ppOnoMAJexW6",
        "outputId": "aed46bda-1a89-4c15-8d1b-f3ceadb5fbcc"
      },
      "execution_count": 52,
      "outputs": [
        {
          "output_type": "execute_result",
          "data": {
            "text/plain": [
              "'ban'"
            ],
            "application/vnd.google.colaboratory.intrinsic+json": {
              "type": "string"
            }
          },
          "metadata": {},
          "execution_count": 52
        }
      ]
    },
    {
      "cell_type": "code",
      "source": [
        "fruit [3:]"
      ],
      "metadata": {
        "colab": {
          "base_uri": "https://localhost:8080/",
          "height": 35
        },
        "id": "nrAfqTl_e3FC",
        "outputId": "c1721aec-1156-45e8-b4d6-15e31be53f79"
      },
      "execution_count": 54,
      "outputs": [
        {
          "output_type": "execute_result",
          "data": {
            "text/plain": [
              "'ana'"
            ],
            "application/vnd.google.colaboratory.intrinsic+json": {
              "type": "string"
            }
          },
          "metadata": {},
          "execution_count": 54
        }
      ]
    },
    {
      "cell_type": "code",
      "source": [
        "fruit = 'banana'\n",
        "fruit [3:3]"
      ],
      "metadata": {
        "colab": {
          "base_uri": "https://localhost:8080/",
          "height": 35
        },
        "id": "m0FF_ZFge9sZ",
        "outputId": "4fde6992-723a-479d-a216-a8b3f0a859c1"
      },
      "execution_count": 59,
      "outputs": [
        {
          "output_type": "execute_result",
          "data": {
            "text/plain": [
              "''"
            ],
            "application/vnd.google.colaboratory.intrinsic+json": {
              "type": "string"
            }
          },
          "metadata": {},
          "execution_count": 59
        }
      ]
    },
    {
      "cell_type": "markdown",
      "source": [
        "Strings are immutable"
      ],
      "metadata": {
        "id": "S-z_cE-AfFUJ"
      }
    },
    {
      "cell_type": "code",
      "source": [
        "greeting = 'Hello, world!'\n",
        "greeting[0] = 'J'"
      ],
      "metadata": {
        "colab": {
          "base_uri": "https://localhost:8080/",
          "height": 159
        },
        "id": "nsE1uYZAfIz6",
        "outputId": "f7ca0eff-1045-4947-dfcd-9e329b53e38c"
      },
      "execution_count": 73,
      "outputs": [
        {
          "output_type": "error",
          "ename": "TypeError",
          "evalue": "'str' object does not support item assignment",
          "traceback": [
            "\u001b[0;31m---------------------------------------------------------------------------\u001b[0m",
            "\u001b[0;31mTypeError\u001b[0m                                 Traceback (most recent call last)",
            "\u001b[0;32m<ipython-input-73-217c78420f62>\u001b[0m in \u001b[0;36m<cell line: 0>\u001b[0;34m()\u001b[0m\n\u001b[1;32m      1\u001b[0m \u001b[0mgreeting\u001b[0m \u001b[0;34m=\u001b[0m \u001b[0;34m'Hello, world!'\u001b[0m\u001b[0;34m\u001b[0m\u001b[0;34m\u001b[0m\u001b[0m\n\u001b[0;32m----> 2\u001b[0;31m \u001b[0mgreeting\u001b[0m\u001b[0;34m[\u001b[0m\u001b[0;36m0\u001b[0m\u001b[0;34m]\u001b[0m \u001b[0;34m=\u001b[0m \u001b[0;34m'J'\u001b[0m\u001b[0;34m\u001b[0m\u001b[0;34m\u001b[0m\u001b[0m\n\u001b[0m",
            "\u001b[0;31mTypeError\u001b[0m: 'str' object does not support item assignment"
          ]
        }
      ]
    },
    {
      "cell_type": "code",
      "source": [
        "greeting = 'Hello, world!'\n",
        "new_greeting = 'J' + greeting[1:]\n",
        "print (new_greeting)"
      ],
      "metadata": {
        "colab": {
          "base_uri": "https://localhost:8080/"
        },
        "id": "cRkndBNsfS-C",
        "outputId": "679afcaf-b82b-4718-b22a-3583eb2a8f99"
      },
      "execution_count": 65,
      "outputs": [
        {
          "output_type": "stream",
          "name": "stdout",
          "text": [
            "Jello, world!\n"
          ]
        }
      ]
    },
    {
      "cell_type": "markdown",
      "source": [
        "Looping and counting"
      ],
      "metadata": {
        "id": "vbnTHWeRf2VD"
      }
    },
    {
      "cell_type": "code",
      "source": [
        "word = 'banana'\n",
        "count = 0\n",
        "for letter in word:\n",
        "  if letter == 'a':\n",
        "    count = count +1\n",
        "print (count)\n"
      ],
      "metadata": {
        "colab": {
          "base_uri": "https://localhost:8080/"
        },
        "id": "X2a6ZJOTf4QZ",
        "outputId": "b63290ee-1ceb-4cf5-8713-a9818c41e841"
      },
      "execution_count": 71,
      "outputs": [
        {
          "output_type": "stream",
          "name": "stdout",
          "text": [
            "3\n"
          ]
        }
      ]
    },
    {
      "cell_type": "markdown",
      "source": [
        "Supplementary Activity"
      ],
      "metadata": {
        "id": "pjjK1G8Crxtq"
      }
    },
    {
      "cell_type": "markdown",
      "source": [
        "1"
      ],
      "metadata": {
        "id": "lmljMGA5vz7j"
      }
    },
    {
      "cell_type": "code",
      "source": [
        "#Slice Method\n",
        "str = 'CPE-CPE009A-2025: 0.8475'\n",
        "print (str[18:24])"
      ],
      "metadata": {
        "colab": {
          "base_uri": "https://localhost:8080/"
        },
        "id": "w_j7WsYor0s6",
        "outputId": "fc30bd8b-ee75-4267-cde9-b4afa24a73d8"
      },
      "execution_count": 160,
      "outputs": [
        {
          "output_type": "stream",
          "name": "stdout",
          "text": [
            "0.8475\n"
          ]
        }
      ]
    },
    {
      "cell_type": "code",
      "source": [
        "#Find Method\n",
        "str_value = 'CPE-CPE009A-2025: 0.8475'\n",
        "\n",
        "\n",
        "colon_index = str_value.find(':')\n",
        "\n",
        "num_str = str_value[colon_index + 1:].strip()\n",
        "\n",
        "\n",
        "num_float = float(num_str)\n",
        "\n",
        "print(num_float)\n"
      ],
      "metadata": {
        "colab": {
          "base_uri": "https://localhost:8080/"
        },
        "outputId": "77b5add7-ef8d-47b7-faf4-1fdba3dc2af5",
        "id": "R00DZm0zsrV3"
      },
      "execution_count": 159,
      "outputs": [
        {
          "output_type": "stream",
          "name": "stdout",
          "text": [
            "0.8475\n"
          ]
        }
      ]
    },
    {
      "cell_type": "code",
      "source": [
        "str_value = '0.8475'\n",
        "print(float(str_value))"
      ],
      "metadata": {
        "colab": {
          "base_uri": "https://localhost:8080/"
        },
        "id": "cFrCUjMIuoyi",
        "outputId": "3b59d30c-4471-4e10-efbf-808c2167662e"
      },
      "execution_count": 163,
      "outputs": [
        {
          "output_type": "stream",
          "name": "stdout",
          "text": [
            "0.8475\n"
          ]
        }
      ]
    },
    {
      "cell_type": "markdown",
      "source": [
        "2"
      ],
      "metadata": {
        "id": "QU2YC806vwwB"
      }
    },
    {
      "cell_type": "code",
      "source": [
        "name = input('Enter your name: ')\n",
        "print('Hello,', name)\n",
        "\n",
        "len(name)\n",
        "\n",
        "print ('3 middle letters of the name:',name[2:5])\n",
        "\n"
      ],
      "metadata": {
        "colab": {
          "base_uri": "https://localhost:8080/"
        },
        "id": "8FxSLXbKv3rS",
        "outputId": "b42acfd7-4441-4502-e473-1fa920f641f4"
      },
      "execution_count": 155,
      "outputs": [
        {
          "output_type": "stream",
          "name": "stdout",
          "text": [
            "Enter your name: Justine\n",
            "Hello, Justine\n",
            "3 middle letters of the name: sti\n"
          ]
        }
      ]
    }
  ]
}