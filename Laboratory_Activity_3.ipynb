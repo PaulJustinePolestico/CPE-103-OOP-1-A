{
  "nbformat": 4,
  "nbformat_minor": 0,
  "metadata": {
    "colab": {
      "provenance": [],
      "authorship_tag": "ABX9TyMArEpZbhrU6htJzv5qbqtF",
      "include_colab_link": true
    },
    "kernelspec": {
      "name": "python3",
      "display_name": "Python 3"
    },
    "language_info": {
      "name": "python"
    }
  },
  "cells": [
    {
      "cell_type": "markdown",
      "metadata": {
        "id": "view-in-github",
        "colab_type": "text"
      },
      "source": [
        "<a href=\"https://colab.research.google.com/github/PaulJustinePolestico/CPE-103-OOP-1-A/blob/main/Laboratory_Activity_3.ipynb\" target=\"_parent\"><img src=\"https://colab.research.google.com/assets/colab-badge.svg\" alt=\"Open In Colab\"/></a>"
      ]
    },
    {
      "cell_type": "code",
      "execution_count": 108,
      "metadata": {
        "id": "JnpyqMwXHREj"
      },
      "outputs": [],
      "source": [
        "\"\"\"\n",
        "Accounts.py\n",
        "\"\"\"\n",
        "\n",
        "class Accounts():\n",
        "    def __init__(self,account_number, account_firstname, account_lastname,\n",
        "                 current_balance, transaction_summary, address, email):\n",
        "\n",
        "        self.account_number = account_number\n",
        "        self.account_firstname = account_firstname\n",
        "        self.account_lastname = account_lastname\n",
        "        self.current_balance = current_balance\n",
        "        self.transaction_summary = transaction_summary\n",
        "        self.address = address\n",
        "        self.email = email\n",
        "\n",
        "    def update_address(self, new_address):\n",
        "        self.address = new_address\n",
        "\n",
        "    def update_email(self, new_email):\n",
        "        self.email = new_email"
      ]
    },
    {
      "cell_type": "code",
      "source": [
        "\n",
        "\"\"\"\n",
        "ATM.py\n",
        "\"\"\"\n",
        "\n",
        "class ATM():\n",
        "    def __init__(self):\n",
        "        pass\n",
        "\n",
        "    def deposit(self, account, amount):\n",
        "        account.current_balance = account.current_balance + amount\n",
        "\n",
        "    def withdraw(self, account, amount):\n",
        "        account.current_balance = account.current_balance - amount\n",
        "\n",
        "    def check_currentbalance(self, account):\n",
        "        print(account.current_balance)\n",
        "\n",
        "    def view_transactionsummary(self, account):\n",
        "        print(account.view_transactionsummary)\n",
        "\n",
        "\n",
        "\n",
        ""
      ],
      "metadata": {
        "id": "27WYXrQPJ5WO"
      },
      "execution_count": 112,
      "outputs": []
    },
    {
      "cell_type": "code",
      "source": [
        "\"\"\"\n",
        "Main.py\n",
        "\"\"\"\n",
        "\n",
        "Account1 = Accounts(account_number=123456,account_firstname=\"Royce\",\n",
        "                              account_lastname=\"Chua\",current_balance=1000 ,\n",
        "                              transaction_summary=[], address=\"Silver Street Quezon City\",\n",
        "                              email=\"roycechua123@gmail.com\")\n",
        "\n",
        "print(\"Account 1\")\n",
        "print(Account1.account_firstname)\n",
        "print(Account1.account_lastname)\n",
        "print(Account1.current_balance)\n",
        "print(Account1.address)\n",
        "print(Account1.email)\n",
        "print(Account1.account_number)\n",
        "\n",
        "\n",
        "\n",
        "Account2 = Accounts(account_number=654321,account_firstname=\"John\",\n",
        "                             account_lastname=\"Doe\", current_balance= 2000 ,\n",
        "                             transaction_summary=[],address=\"Gold Street Quezon City\",\n",
        "                             email= \"johndoe@yahoo.com\")\n",
        "\n",
        "\n",
        "print(\"Account 2\")\n",
        "print(Account2.account_firstname)\n",
        "print(Account2.account_lastname)\n",
        "print(Account2.current_balance)\n",
        "print(Account2.address)\n",
        "print(Account2.email)\n",
        "print(Account2.account_number)\n",
        "\n",
        "ATM1 = ATM ()\n",
        "ATM1.deposit(Account1,500)\n",
        "ATM1.check_currentbalance(Account1)\n",
        "\n",
        "ATM1.deposit(Account2, 300)\n",
        "ATM1.check_currentbalance(Account2)"
      ],
      "metadata": {
        "colab": {
          "base_uri": "https://localhost:8080/"
        },
        "outputId": "670a91fe-024e-4f19-9dc4-8016caee2121",
        "id": "ScG0H9XTkMVb"
      },
      "execution_count": 111,
      "outputs": [
        {
          "output_type": "stream",
          "name": "stdout",
          "text": [
            "Account 1\n",
            "Royce\n",
            "Chua\n",
            "1000\n",
            "Silver Street Quezon City\n",
            "roycechua123@gmail.com\n",
            "123456\n",
            "Account 2\n",
            "John\n",
            "Doe\n",
            "2000\n",
            "Gold Street Quezon City\n",
            "johndoe@yahoo.com\n",
            "654321\n",
            "1500\n",
            "2300\n"
          ]
        }
      ]
    }
  ]
}