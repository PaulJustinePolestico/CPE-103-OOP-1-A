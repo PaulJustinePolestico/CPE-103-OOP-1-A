{
  "nbformat": 4,
  "nbformat_minor": 0,
  "metadata": {
    "colab": {
      "provenance": [],
      "authorship_tag": "ABX9TyMPytA+p8IO1AE2HxCHHXqj",
      "include_colab_link": true
    },
    "kernelspec": {
      "name": "python3",
      "display_name": "Python 3"
    },
    "language_info": {
      "name": "python"
    }
  },
  "cells": [
    {
      "cell_type": "markdown",
      "metadata": {
        "id": "view-in-github",
        "colab_type": "text"
      },
      "source": [
        "<a href=\"https://colab.research.google.com/github/PaulJustinePolestico/CPE-103-OOP-1-A/blob/main/Laboratory_Activity_4.ipynb\" target=\"_parent\"><img src=\"https://colab.research.google.com/assets/colab-badge.svg\" alt=\"Open In Colab\"/></a>"
      ]
    },
    {
      "cell_type": "markdown",
      "source": [
        "Lists"
      ],
      "metadata": {
        "id": "fMQE_hOlMk1E"
      }
    },
    {
      "cell_type": "markdown",
      "source": [
        "Number List"
      ],
      "metadata": {
        "id": "SD1qg83qZRXU"
      }
    },
    {
      "cell_type": "code",
      "execution_count": null,
      "metadata": {
        "colab": {
          "base_uri": "https://localhost:8080/",
          "height": 280
        },
        "id": "MSAvLyl6GE6t",
        "outputId": "5a8b8d2a-8906-4115-acc7-3c9814d0beef"
      },
      "outputs": [
        {
          "output_type": "stream",
          "name": "stdout",
          "text": [
            "5\n",
            "5\n",
            "4\n",
            "2\n",
            "1\n",
            "3\n"
          ]
        },
        {
          "output_type": "error",
          "ename": "IndexError",
          "evalue": "list index out of range",
          "traceback": [
            "\u001b[0;31m---------------------------------------------------------------------------\u001b[0m",
            "\u001b[0;31mIndexError\u001b[0m                                Traceback (most recent call last)",
            "\u001b[0;32m<ipython-input-345-15a9e0e09a7e>\u001b[0m in \u001b[0;36m<cell line: 0>\u001b[0;34m()\u001b[0m\n\u001b[1;32m      7\u001b[0m \u001b[0mprint\u001b[0m \u001b[0;34m(\u001b[0m\u001b[0mnumberlist\u001b[0m\u001b[0;34m[\u001b[0m\u001b[0;36m3\u001b[0m\u001b[0;34m]\u001b[0m\u001b[0;34m)\u001b[0m\u001b[0;34m\u001b[0m\u001b[0;34m\u001b[0m\u001b[0m\n\u001b[1;32m      8\u001b[0m \u001b[0mprint\u001b[0m \u001b[0;34m(\u001b[0m\u001b[0mnumberlist\u001b[0m\u001b[0;34m[\u001b[0m\u001b[0;36m4\u001b[0m\u001b[0;34m]\u001b[0m\u001b[0;34m)\u001b[0m\u001b[0;34m\u001b[0m\u001b[0;34m\u001b[0m\u001b[0m\n\u001b[0;32m----> 9\u001b[0;31m \u001b[0mprint\u001b[0m \u001b[0;34m(\u001b[0m\u001b[0mnumberlist\u001b[0m\u001b[0;34m[\u001b[0m\u001b[0;36m5\u001b[0m\u001b[0;34m]\u001b[0m\u001b[0;34m)\u001b[0m\u001b[0;34m\u001b[0m\u001b[0;34m\u001b[0m\u001b[0m\n\u001b[0m",
            "\u001b[0;31mIndexError\u001b[0m: list index out of range"
          ]
        }
      ],
      "source": [
        "#Lists\n",
        "numberlist = [5,4,2,1,3]\n",
        "print (len(numberlist))\n",
        "print (numberlist[0])\n",
        "print (numberlist[1])\n",
        "print (numberlist[2])\n",
        "print (numberlist[3])\n",
        "print (numberlist[4])\n",
        "print (numberlist[5])\n"
      ]
    },
    {
      "cell_type": "code",
      "source": [
        "#Lists\n",
        "numberlist = [5,4,2,1,3]\n",
        "print (numberlist[-1])\n",
        "print (numberlist[-2])\n",
        "print (numberlist[-3])\n",
        "print (numberlist[-4])\n",
        "print (numberlist[-5])\n",
        "print (numberlist[-6])\n",
        "print (len(numberlist))"
      ],
      "metadata": {
        "colab": {
          "base_uri": "https://localhost:8080/",
          "height": 280
        },
        "id": "Tbj4K_c1MMKD",
        "outputId": "11cb1b47-6111-4dc9-e453-1085da020d81"
      },
      "execution_count": null,
      "outputs": [
        {
          "output_type": "stream",
          "name": "stdout",
          "text": [
            "3\n",
            "1\n",
            "2\n",
            "4\n",
            "5\n"
          ]
        },
        {
          "output_type": "error",
          "ename": "IndexError",
          "evalue": "list index out of range",
          "traceback": [
            "\u001b[0;31m---------------------------------------------------------------------------\u001b[0m",
            "\u001b[0;31mIndexError\u001b[0m                                Traceback (most recent call last)",
            "\u001b[0;32m<ipython-input-346-95997efb51db>\u001b[0m in \u001b[0;36m<cell line: 0>\u001b[0;34m()\u001b[0m\n\u001b[1;32m      6\u001b[0m \u001b[0mprint\u001b[0m \u001b[0;34m(\u001b[0m\u001b[0mnumberlist\u001b[0m\u001b[0;34m[\u001b[0m\u001b[0;34m-\u001b[0m\u001b[0;36m4\u001b[0m\u001b[0;34m]\u001b[0m\u001b[0;34m)\u001b[0m\u001b[0;34m\u001b[0m\u001b[0;34m\u001b[0m\u001b[0m\n\u001b[1;32m      7\u001b[0m \u001b[0mprint\u001b[0m \u001b[0;34m(\u001b[0m\u001b[0mnumberlist\u001b[0m\u001b[0;34m[\u001b[0m\u001b[0;34m-\u001b[0m\u001b[0;36m5\u001b[0m\u001b[0;34m]\u001b[0m\u001b[0;34m)\u001b[0m\u001b[0;34m\u001b[0m\u001b[0;34m\u001b[0m\u001b[0m\n\u001b[0;32m----> 8\u001b[0;31m \u001b[0mprint\u001b[0m \u001b[0;34m(\u001b[0m\u001b[0mnumberlist\u001b[0m\u001b[0;34m[\u001b[0m\u001b[0;34m-\u001b[0m\u001b[0;36m6\u001b[0m\u001b[0;34m]\u001b[0m\u001b[0;34m)\u001b[0m\u001b[0;34m\u001b[0m\u001b[0;34m\u001b[0m\u001b[0m\n\u001b[0m\u001b[1;32m      9\u001b[0m \u001b[0mprint\u001b[0m \u001b[0;34m(\u001b[0m\u001b[0mlen\u001b[0m\u001b[0;34m(\u001b[0m\u001b[0mnumberlist\u001b[0m\u001b[0;34m)\u001b[0m\u001b[0;34m)\u001b[0m\u001b[0;34m\u001b[0m\u001b[0;34m\u001b[0m\u001b[0m\n",
            "\u001b[0;31mIndexError\u001b[0m: list index out of range"
          ]
        }
      ]
    },
    {
      "cell_type": "code",
      "source": [
        "#Lists\n",
        "numberlist = [5,4,2,1,3]\n",
        "print (numberlist[-1])\n",
        "print (numberlist[-2])\n",
        "print (numberlist[-3])\n",
        "print (numberlist[-4])\n",
        "print (numberlist[-5])\n",
        "print (len(numberlist))"
      ],
      "metadata": {
        "colab": {
          "base_uri": "https://localhost:8080/"
        },
        "id": "BOJA-Ft9bQAu",
        "outputId": "33fdad22-40e6-48e6-a196-a3b883365e39"
      },
      "execution_count": 17,
      "outputs": [
        {
          "output_type": "stream",
          "name": "stdout",
          "text": [
            "3\n",
            "1\n",
            "2\n",
            "4\n",
            "5\n",
            "5\n"
          ]
        }
      ]
    },
    {
      "cell_type": "code",
      "source": [
        "#Lists\n",
        "numberlist = [5,4,2,1,3]\n",
        "len(numberlist)\n",
        "print(numberlist[0])\n",
        "print(numberlist[1])\n",
        "print(numberlist[2])\n",
        "print(numberlist[3])\n",
        "print(len(numberlist))\n"
      ],
      "metadata": {
        "colab": {
          "base_uri": "https://localhost:8080/"
        },
        "id": "PolpXBhiL-sM",
        "outputId": "f5056558-20be-48f8-b021-21d9da4f9b1b"
      },
      "execution_count": 18,
      "outputs": [
        {
          "output_type": "stream",
          "name": "stdout",
          "text": [
            "5\n",
            "4\n",
            "2\n",
            "1\n",
            "5\n"
          ]
        }
      ]
    },
    {
      "cell_type": "markdown",
      "source": [
        "Item List"
      ],
      "metadata": {
        "id": "I-90VPEFZNyW"
      }
    },
    {
      "cell_type": "code",
      "source": [
        "#Item List\n",
        "itemlist = [1,-2.0,[1,2,3],\"Word\"]\n",
        "print(len(itemlist))\n",
        "print(itemlist[0])\n",
        "print(itemlist[1])\n",
        "print(itemlist[2])\n",
        "print(itemlist[3])\n",
        "print(len(itemlist[2]))\n"
      ],
      "metadata": {
        "colab": {
          "base_uri": "https://localhost:8080/"
        },
        "id": "USbuIP_AQZgd",
        "outputId": "4c33d765-340f-4c55-d25b-3d87fe54c325"
      },
      "execution_count": 19,
      "outputs": [
        {
          "output_type": "stream",
          "name": "stdout",
          "text": [
            "4\n",
            "1\n",
            "-2.0\n",
            "[1, 2, 3]\n",
            "Word\n",
            "3\n"
          ]
        }
      ]
    },
    {
      "cell_type": "code",
      "source": [
        "#Item List\n",
        "itemlist = [1,-2.0,[1,2,3],\"Word\"]\n",
        "print(itemlist[2][0])\n",
        "print(itemlist[2][1])\n",
        "print(itemlist[2][2])"
      ],
      "metadata": {
        "colab": {
          "base_uri": "https://localhost:8080/"
        },
        "id": "Af2uHe0BNxbu",
        "outputId": "727f5482-d727-4fa0-a3ab-6121193ffca8"
      },
      "execution_count": 20,
      "outputs": [
        {
          "output_type": "stream",
          "name": "stdout",
          "text": [
            "1\n",
            "2\n",
            "3\n"
          ]
        }
      ]
    },
    {
      "cell_type": "code",
      "source": [
        "#Item List\n",
        "itemlist = [1,-2,0,[1,2,3],\"Word\"]\n",
        "print(len(itemlist))\n",
        "print(itemlist[-1])\n",
        "print(itemlist[-2])\n",
        "print(itemlist[-3])\n",
        "print(itemlist[-4])\n",
        "print(len(itemlist[-2]))\n",
        "print(itemlist[-2][0])\n",
        "print(itemlist[-2][1])\n",
        "print(itemlist[-2][2])\n",
        "print(itemlist[-2][-3])\n",
        "print(itemlist[-2][-2])\n",
        "print(itemlist[-2][-1])\n",
        "\n"
      ],
      "metadata": {
        "colab": {
          "base_uri": "https://localhost:8080/"
        },
        "id": "BdjK1a2aR6lV",
        "outputId": "080af43d-2444-481e-a76c-5201b7dad232"
      },
      "execution_count": 21,
      "outputs": [
        {
          "output_type": "stream",
          "name": "stdout",
          "text": [
            "5\n",
            "Word\n",
            "[1, 2, 3]\n",
            "0\n",
            "-2\n",
            "3\n",
            "1\n",
            "2\n",
            "3\n",
            "1\n",
            "2\n",
            "3\n"
          ]
        }
      ]
    },
    {
      "cell_type": "markdown",
      "source": [
        "Index Slicing"
      ],
      "metadata": {
        "id": "qoT5yK3yZgd9"
      }
    },
    {
      "cell_type": "code",
      "source": [
        "#Item List\n",
        "numberlist = [5,4,2,1,3]\n",
        "itemlist = [1,-2.0,[1,2,3],\"Word\"]\n",
        "longlist = numberlist + itemlist\n",
        "\n",
        "print(len(longlist))\n",
        "print(longlist[:])\n",
        "print(longlist[:9])\n",
        "print(longlist[0:])\n",
        "print(longlist[1:])\n",
        "print(longlist[2:])\n",
        "\n",
        "#With Range\n",
        "print(longlist[2:5])\n",
        "print(longlist[5:2])\n",
        "print(longlist[8:])\n",
        "print(longlist[9:])\n",
        "\n",
        "\n",
        "#Negative Indices\n",
        "print(longlist[-9:])\n",
        "print(longlist[-8])\n",
        "print(longlist[-8:-7])\n",
        "print(longlist[-1:])\n",
        "\n",
        "\n"
      ],
      "metadata": {
        "colab": {
          "base_uri": "https://localhost:8080/"
        },
        "id": "hf66CPM3ZiNd",
        "outputId": "75201a06-7d92-47bc-d2bf-01c854501fb7"
      },
      "execution_count": 22,
      "outputs": [
        {
          "output_type": "stream",
          "name": "stdout",
          "text": [
            "9\n",
            "[5, 4, 2, 1, 3, 1, -2.0, [1, 2, 3], 'Word']\n",
            "[5, 4, 2, 1, 3, 1, -2.0, [1, 2, 3], 'Word']\n",
            "[5, 4, 2, 1, 3, 1, -2.0, [1, 2, 3], 'Word']\n",
            "[4, 2, 1, 3, 1, -2.0, [1, 2, 3], 'Word']\n",
            "[2, 1, 3, 1, -2.0, [1, 2, 3], 'Word']\n",
            "[2, 1, 3]\n",
            "[]\n",
            "['Word']\n",
            "[]\n",
            "[5, 4, 2, 1, 3, 1, -2.0, [1, 2, 3], 'Word']\n",
            "4\n",
            "[4]\n",
            "['Word']\n"
          ]
        }
      ]
    },
    {
      "cell_type": "code",
      "source": [
        "#Item List\n",
        "numberlist = [5,4,2,1,3]\n",
        "itemlist = [1,-2.0,[1,2,3],\"Word\"]\n",
        "longlist = numberlist + itemlist\n",
        "\n",
        "#Other Properties\n",
        "print(longlist[10:20])\n",
        "print(longlist[-7:5])\n",
        "\n",
        "#With Step Parameter\n",
        "print(longlist[::1])\n",
        "print(longlist[::2])\n",
        "print(longlist[1:8:2])\n",
        "print(longlist[9:1:-1])\n",
        "print(longlist[-1::1])\n",
        "print(longlist[-1::-1])\n",
        "\n",
        "\n"
      ],
      "metadata": {
        "colab": {
          "base_uri": "https://localhost:8080/"
        },
        "id": "Uoyn7ekPcRB1",
        "outputId": "d70d9272-14f2-4461-9fde-5c443d17fc79"
      },
      "execution_count": 23,
      "outputs": [
        {
          "output_type": "stream",
          "name": "stdout",
          "text": [
            "[]\n",
            "[2, 1, 3]\n",
            "[5, 4, 2, 1, 3, 1, -2.0, [1, 2, 3], 'Word']\n",
            "[5, 2, 3, -2.0, 'Word']\n",
            "[4, 1, 1, [1, 2, 3]]\n",
            "['Word', [1, 2, 3], -2.0, 1, 3, 1, 2]\n",
            "['Word']\n",
            "['Word', [1, 2, 3], -2.0, 1, 3, 1, 2, 4, 5]\n"
          ]
        }
      ]
    },
    {
      "cell_type": "markdown",
      "source": [
        "List Methods and the Mutable Property of Lists"
      ],
      "metadata": {
        "id": "-ndixXgrc-iO"
      }
    },
    {
      "cell_type": "code",
      "source": [
        "#Mutable Property of Lists\n",
        "numberlist = [1,2,3,4,5]\n",
        "numberlist2 = [5,4,3,2,1]\n",
        "\n",
        "numberlist[0]=6\n",
        "\n",
        "print(numberlist)\n",
        "print(numberlist2)\n",
        "\n",
        "\n"
      ],
      "metadata": {
        "colab": {
          "base_uri": "https://localhost:8080/"
        },
        "id": "1z9wGv_edRZe",
        "outputId": "265640f8-9e9a-4374-b6df-a2435d8dde65"
      },
      "execution_count": 24,
      "outputs": [
        {
          "output_type": "stream",
          "name": "stdout",
          "text": [
            "[6, 2, 3, 4, 5]\n",
            "[5, 4, 3, 2, 1]\n"
          ]
        }
      ]
    },
    {
      "cell_type": "code",
      "source": [
        "#Mutable Property of Lists\n",
        "numberlist = [1,2,3,4,5]\n",
        "numberlist2 = numberlist.copy()\n",
        "\n",
        "numberlist[0]=5\n",
        "\n",
        "\n",
        "\n",
        "print(numberlist)\n",
        "print(numberlist2)\n",
        "\n"
      ],
      "metadata": {
        "colab": {
          "base_uri": "https://localhost:8080/"
        },
        "id": "aFcO5wMad-A2",
        "outputId": "ffb7c345-d93d-422f-d050-31830ec8904a"
      },
      "execution_count": 25,
      "outputs": [
        {
          "output_type": "stream",
          "name": "stdout",
          "text": [
            "[5, 2, 3, 4, 5]\n",
            "[1, 2, 3, 4, 5]\n"
          ]
        }
      ]
    },
    {
      "cell_type": "markdown",
      "source": [
        "The in Operator"
      ],
      "metadata": {
        "id": "FAVbTbvdhYQn"
      }
    },
    {
      "cell_type": "code",
      "source": [
        "#Item List\n",
        "numberlist = [5,4,2,1,3]\n",
        "itemlist = [1,-2.0,[1,2,3],\"Word\"]\n",
        "longlist = numberlist + itemlist\n",
        "\n",
        "print(3 in longlist)\n",
        "print(15 in longlist)\n",
        "\n",
        "num = int(input(\"Enter a number: \"))\n",
        "if num in longlist:\n",
        "  print(\"The number is in longlist\")\n",
        "else:\n",
        "    print(\"The number is not in longlist\")\n"
      ],
      "metadata": {
        "colab": {
          "base_uri": "https://localhost:8080/"
        },
        "id": "ldr4rqYnhQek",
        "outputId": "198e0570-ca56-45c6-edc1-dbb2c9acd9fd"
      },
      "execution_count": 26,
      "outputs": [
        {
          "output_type": "stream",
          "name": "stdout",
          "text": [
            "True\n",
            "False\n",
            "Enter a number: 2\n",
            "The number is in longlist\n"
          ]
        }
      ]
    },
    {
      "cell_type": "code",
      "source": [
        "#Item List\n",
        "numberlist = [5,4,2,1,3]\n",
        "itemlist = [1,-2.0,[1,2,3],\"Word\"]\n",
        "longlist = numberlist + itemlist\n",
        "\n",
        "#In an iterative statement\n",
        "for item in longlist:\n",
        "  print(item)\n",
        "\n",
        "i=0\n",
        "while i<len(longlist):\n",
        "  print(longlist[i])\n",
        "  i+=1"
      ],
      "metadata": {
        "colab": {
          "base_uri": "https://localhost:8080/"
        },
        "id": "M1Zaeymt809T",
        "outputId": "075b1888-aaa0-4708-f2d1-dcd343ca5d24"
      },
      "execution_count": 27,
      "outputs": [
        {
          "output_type": "stream",
          "name": "stdout",
          "text": [
            "5\n",
            "4\n",
            "2\n",
            "1\n",
            "3\n",
            "1\n",
            "-2.0\n",
            "[1, 2, 3]\n",
            "Word\n",
            "5\n",
            "4\n",
            "2\n",
            "1\n",
            "3\n",
            "1\n",
            "-2.0\n",
            "[1, 2, 3]\n",
            "Word\n"
          ]
        }
      ]
    },
    {
      "cell_type": "markdown",
      "source": [
        "Strings"
      ],
      "metadata": {
        "id": "c-c6fAyd9bA3"
      }
    },
    {
      "cell_type": "code",
      "source": [
        "message  = \"Hello World\"\n",
        "print(message)\n",
        "print(len(message))\n",
        "print(message[0])\n",
        "print(message[1])\n",
        "print(message[2])\n",
        "print(message[3])\n",
        "print(message[4])\n",
        "\n",
        "\n",
        "print(message[0]+message[1]+message[2]+message[3]+message[4])\n",
        "\n",
        "print(message[5]+message[6]+message[7]+message[8]+message[9]+message[10])\n",
        "\n"
      ],
      "metadata": {
        "colab": {
          "base_uri": "https://localhost:8080/"
        },
        "id": "jD_oRzkA9cWH",
        "outputId": "9d2b399a-141a-4b07-8601-7d8d496b8e74"
      },
      "execution_count": 28,
      "outputs": [
        {
          "output_type": "stream",
          "name": "stdout",
          "text": [
            "Hello World\n",
            "11\n",
            "H\n",
            "e\n",
            "l\n",
            "l\n",
            "o\n",
            "Hello\n",
            " World\n"
          ]
        }
      ]
    },
    {
      "cell_type": "code",
      "source": [
        "#String Methods\n",
        "message = \"Hello World\"\n",
        "message  = message.replace(\"World\",\"CPE009\")\n",
        "print(message.upper())\n",
        "print(message.lower())\n",
        "print(message.title())\n",
        "print(\"Value is 1{}, and Value 2 is {}\".format(-1,True))\n",
        "print(message.split())\n",
        "print(message.count(\"I\"))\n",
        "print(message.replace(\"World\",\"CPE009\"))\n",
        "\n",
        "#In operator Strings\n",
        "print(\"W\" in message)\n",
        "print(\"old\" in message)\n",
        "word=input(\"Enter a word: \")\n",
        "if word in \"The big brown fox jump over the lazy dog\":\n",
        "  print(\"The word is in the text\")\n",
        "else:\n",
        "  print(\"The word is not in the text\")\n",
        "\n",
        "help(\"\")\n"
      ],
      "metadata": {
        "colab": {
          "base_uri": "https://localhost:8080/"
        },
        "id": "vkcBqbFE-rma",
        "outputId": "50317122-5de8-466e-f3f1-639bce2d7f53"
      },
      "execution_count": 29,
      "outputs": [
        {
          "output_type": "stream",
          "name": "stdout",
          "text": [
            "HELLO CPE009\n",
            "hello cpe009\n",
            "Hello Cpe009\n",
            "Value is 1-1, and Value 2 is True\n",
            "['Hello', 'CPE009']\n",
            "0\n",
            "Hello CPE009\n",
            "False\n",
            "False\n",
            "Enter a word: fox\n",
            "The word is in the text\n",
            "Help on class str in module builtins:\n",
            "\n",
            "class str(object)\n",
            " |  str(object='') -> str\n",
            " |  str(bytes_or_buffer[, encoding[, errors]]) -> str\n",
            " |  \n",
            " |  Create a new string object from the given object. If encoding or\n",
            " |  errors is specified, then the object must expose a data buffer\n",
            " |  that will be decoded using the given encoding and error handler.\n",
            " |  Otherwise, returns the result of object.__str__() (if defined)\n",
            " |  or repr(object).\n",
            " |  encoding defaults to sys.getdefaultencoding().\n",
            " |  errors defaults to 'strict'.\n",
            " |  \n",
            " |  Methods defined here:\n",
            " |  \n",
            " |  __add__(self, value, /)\n",
            " |      Return self+value.\n",
            " |  \n",
            " |  __contains__(self, key, /)\n",
            " |      Return key in self.\n",
            " |  \n",
            " |  __eq__(self, value, /)\n",
            " |      Return self==value.\n",
            " |  \n",
            " |  __format__(self, format_spec, /)\n",
            " |      Return a formatted version of the string as described by format_spec.\n",
            " |  \n",
            " |  __ge__(self, value, /)\n",
            " |      Return self>=value.\n",
            " |  \n",
            " |  __getattribute__(self, name, /)\n",
            " |      Return getattr(self, name).\n",
            " |  \n",
            " |  __getitem__(self, key, /)\n",
            " |      Return self[key].\n",
            " |  \n",
            " |  __getnewargs__(...)\n",
            " |  \n",
            " |  __gt__(self, value, /)\n",
            " |      Return self>value.\n",
            " |  \n",
            " |  __hash__(self, /)\n",
            " |      Return hash(self).\n",
            " |  \n",
            " |  __iter__(self, /)\n",
            " |      Implement iter(self).\n",
            " |  \n",
            " |  __le__(self, value, /)\n",
            " |      Return self<=value.\n",
            " |  \n",
            " |  __len__(self, /)\n",
            " |      Return len(self).\n",
            " |  \n",
            " |  __lt__(self, value, /)\n",
            " |      Return self<value.\n",
            " |  \n",
            " |  __mod__(self, value, /)\n",
            " |      Return self%value.\n",
            " |  \n",
            " |  __mul__(self, value, /)\n",
            " |      Return self*value.\n",
            " |  \n",
            " |  __ne__(self, value, /)\n",
            " |      Return self!=value.\n",
            " |  \n",
            " |  __repr__(self, /)\n",
            " |      Return repr(self).\n",
            " |  \n",
            " |  __rmod__(self, value, /)\n",
            " |      Return value%self.\n",
            " |  \n",
            " |  __rmul__(self, value, /)\n",
            " |      Return value*self.\n",
            " |  \n",
            " |  __sizeof__(self, /)\n",
            " |      Return the size of the string in memory, in bytes.\n",
            " |  \n",
            " |  __str__(self, /)\n",
            " |      Return str(self).\n",
            " |  \n",
            " |  capitalize(self, /)\n",
            " |      Return a capitalized version of the string.\n",
            " |      \n",
            " |      More specifically, make the first character have upper case and the rest lower\n",
            " |      case.\n",
            " |  \n",
            " |  casefold(self, /)\n",
            " |      Return a version of the string suitable for caseless comparisons.\n",
            " |  \n",
            " |  center(self, width, fillchar=' ', /)\n",
            " |      Return a centered string of length width.\n",
            " |      \n",
            " |      Padding is done using the specified fill character (default is a space).\n",
            " |  \n",
            " |  count(...)\n",
            " |      S.count(sub[, start[, end]]) -> int\n",
            " |      \n",
            " |      Return the number of non-overlapping occurrences of substring sub in\n",
            " |      string S[start:end].  Optional arguments start and end are\n",
            " |      interpreted as in slice notation.\n",
            " |  \n",
            " |  encode(self, /, encoding='utf-8', errors='strict')\n",
            " |      Encode the string using the codec registered for encoding.\n",
            " |      \n",
            " |      encoding\n",
            " |        The encoding in which to encode the string.\n",
            " |      errors\n",
            " |        The error handling scheme to use for encoding errors.\n",
            " |        The default is 'strict' meaning that encoding errors raise a\n",
            " |        UnicodeEncodeError.  Other possible values are 'ignore', 'replace' and\n",
            " |        'xmlcharrefreplace' as well as any other name registered with\n",
            " |        codecs.register_error that can handle UnicodeEncodeErrors.\n",
            " |  \n",
            " |  endswith(...)\n",
            " |      S.endswith(suffix[, start[, end]]) -> bool\n",
            " |      \n",
            " |      Return True if S ends with the specified suffix, False otherwise.\n",
            " |      With optional start, test S beginning at that position.\n",
            " |      With optional end, stop comparing S at that position.\n",
            " |      suffix can also be a tuple of strings to try.\n",
            " |  \n",
            " |  expandtabs(self, /, tabsize=8)\n",
            " |      Return a copy where all tab characters are expanded using spaces.\n",
            " |      \n",
            " |      If tabsize is not given, a tab size of 8 characters is assumed.\n",
            " |  \n",
            " |  find(...)\n",
            " |      S.find(sub[, start[, end]]) -> int\n",
            " |      \n",
            " |      Return the lowest index in S where substring sub is found,\n",
            " |      such that sub is contained within S[start:end].  Optional\n",
            " |      arguments start and end are interpreted as in slice notation.\n",
            " |      \n",
            " |      Return -1 on failure.\n",
            " |  \n",
            " |  format(...)\n",
            " |      S.format(*args, **kwargs) -> str\n",
            " |      \n",
            " |      Return a formatted version of S, using substitutions from args and kwargs.\n",
            " |      The substitutions are identified by braces ('{' and '}').\n",
            " |  \n",
            " |  format_map(...)\n",
            " |      S.format_map(mapping) -> str\n",
            " |      \n",
            " |      Return a formatted version of S, using substitutions from mapping.\n",
            " |      The substitutions are identified by braces ('{' and '}').\n",
            " |  \n",
            " |  index(...)\n",
            " |      S.index(sub[, start[, end]]) -> int\n",
            " |      \n",
            " |      Return the lowest index in S where substring sub is found,\n",
            " |      such that sub is contained within S[start:end].  Optional\n",
            " |      arguments start and end are interpreted as in slice notation.\n",
            " |      \n",
            " |      Raises ValueError when the substring is not found.\n",
            " |  \n",
            " |  isalnum(self, /)\n",
            " |      Return True if the string is an alpha-numeric string, False otherwise.\n",
            " |      \n",
            " |      A string is alpha-numeric if all characters in the string are alpha-numeric and\n",
            " |      there is at least one character in the string.\n",
            " |  \n",
            " |  isalpha(self, /)\n",
            " |      Return True if the string is an alphabetic string, False otherwise.\n",
            " |      \n",
            " |      A string is alphabetic if all characters in the string are alphabetic and there\n",
            " |      is at least one character in the string.\n",
            " |  \n",
            " |  isascii(self, /)\n",
            " |      Return True if all characters in the string are ASCII, False otherwise.\n",
            " |      \n",
            " |      ASCII characters have code points in the range U+0000-U+007F.\n",
            " |      Empty string is ASCII too.\n",
            " |  \n",
            " |  isdecimal(self, /)\n",
            " |      Return True if the string is a decimal string, False otherwise.\n",
            " |      \n",
            " |      A string is a decimal string if all characters in the string are decimal and\n",
            " |      there is at least one character in the string.\n",
            " |  \n",
            " |  isdigit(self, /)\n",
            " |      Return True if the string is a digit string, False otherwise.\n",
            " |      \n",
            " |      A string is a digit string if all characters in the string are digits and there\n",
            " |      is at least one character in the string.\n",
            " |  \n",
            " |  isidentifier(self, /)\n",
            " |      Return True if the string is a valid Python identifier, False otherwise.\n",
            " |      \n",
            " |      Call keyword.iskeyword(s) to test whether string s is a reserved identifier,\n",
            " |      such as \"def\" or \"class\".\n",
            " |  \n",
            " |  islower(self, /)\n",
            " |      Return True if the string is a lowercase string, False otherwise.\n",
            " |      \n",
            " |      A string is lowercase if all cased characters in the string are lowercase and\n",
            " |      there is at least one cased character in the string.\n",
            " |  \n",
            " |  isnumeric(self, /)\n",
            " |      Return True if the string is a numeric string, False otherwise.\n",
            " |      \n",
            " |      A string is numeric if all characters in the string are numeric and there is at\n",
            " |      least one character in the string.\n",
            " |  \n",
            " |  isprintable(self, /)\n",
            " |      Return True if the string is printable, False otherwise.\n",
            " |      \n",
            " |      A string is printable if all of its characters are considered printable in\n",
            " |      repr() or if it is empty.\n",
            " |  \n",
            " |  isspace(self, /)\n",
            " |      Return True if the string is a whitespace string, False otherwise.\n",
            " |      \n",
            " |      A string is whitespace if all characters in the string are whitespace and there\n",
            " |      is at least one character in the string.\n",
            " |  \n",
            " |  istitle(self, /)\n",
            " |      Return True if the string is a title-cased string, False otherwise.\n",
            " |      \n",
            " |      In a title-cased string, upper- and title-case characters may only\n",
            " |      follow uncased characters and lowercase characters only cased ones.\n",
            " |  \n",
            " |  isupper(self, /)\n",
            " |      Return True if the string is an uppercase string, False otherwise.\n",
            " |      \n",
            " |      A string is uppercase if all cased characters in the string are uppercase and\n",
            " |      there is at least one cased character in the string.\n",
            " |  \n",
            " |  join(self, iterable, /)\n",
            " |      Concatenate any number of strings.\n",
            " |      \n",
            " |      The string whose method is called is inserted in between each given string.\n",
            " |      The result is returned as a new string.\n",
            " |      \n",
            " |      Example: '.'.join(['ab', 'pq', 'rs']) -> 'ab.pq.rs'\n",
            " |  \n",
            " |  ljust(self, width, fillchar=' ', /)\n",
            " |      Return a left-justified string of length width.\n",
            " |      \n",
            " |      Padding is done using the specified fill character (default is a space).\n",
            " |  \n",
            " |  lower(self, /)\n",
            " |      Return a copy of the string converted to lowercase.\n",
            " |  \n",
            " |  lstrip(self, chars=None, /)\n",
            " |      Return a copy of the string with leading whitespace removed.\n",
            " |      \n",
            " |      If chars is given and not None, remove characters in chars instead.\n",
            " |  \n",
            " |  partition(self, sep, /)\n",
            " |      Partition the string into three parts using the given separator.\n",
            " |      \n",
            " |      This will search for the separator in the string.  If the separator is found,\n",
            " |      returns a 3-tuple containing the part before the separator, the separator\n",
            " |      itself, and the part after it.\n",
            " |      \n",
            " |      If the separator is not found, returns a 3-tuple containing the original string\n",
            " |      and two empty strings.\n",
            " |  \n",
            " |  removeprefix(self, prefix, /)\n",
            " |      Return a str with the given prefix string removed if present.\n",
            " |      \n",
            " |      If the string starts with the prefix string, return string[len(prefix):].\n",
            " |      Otherwise, return a copy of the original string.\n",
            " |  \n",
            " |  removesuffix(self, suffix, /)\n",
            " |      Return a str with the given suffix string removed if present.\n",
            " |      \n",
            " |      If the string ends with the suffix string and that suffix is not empty,\n",
            " |      return string[:-len(suffix)]. Otherwise, return a copy of the original\n",
            " |      string.\n",
            " |  \n",
            " |  replace(self, old, new, count=-1, /)\n",
            " |      Return a copy with all occurrences of substring old replaced by new.\n",
            " |      \n",
            " |        count\n",
            " |          Maximum number of occurrences to replace.\n",
            " |          -1 (the default value) means replace all occurrences.\n",
            " |      \n",
            " |      If the optional argument count is given, only the first count occurrences are\n",
            " |      replaced.\n",
            " |  \n",
            " |  rfind(...)\n",
            " |      S.rfind(sub[, start[, end]]) -> int\n",
            " |      \n",
            " |      Return the highest index in S where substring sub is found,\n",
            " |      such that sub is contained within S[start:end].  Optional\n",
            " |      arguments start and end are interpreted as in slice notation.\n",
            " |      \n",
            " |      Return -1 on failure.\n",
            " |  \n",
            " |  rindex(...)\n",
            " |      S.rindex(sub[, start[, end]]) -> int\n",
            " |      \n",
            " |      Return the highest index in S where substring sub is found,\n",
            " |      such that sub is contained within S[start:end].  Optional\n",
            " |      arguments start and end are interpreted as in slice notation.\n",
            " |      \n",
            " |      Raises ValueError when the substring is not found.\n",
            " |  \n",
            " |  rjust(self, width, fillchar=' ', /)\n",
            " |      Return a right-justified string of length width.\n",
            " |      \n",
            " |      Padding is done using the specified fill character (default is a space).\n",
            " |  \n",
            " |  rpartition(self, sep, /)\n",
            " |      Partition the string into three parts using the given separator.\n",
            " |      \n",
            " |      This will search for the separator in the string, starting at the end. If\n",
            " |      the separator is found, returns a 3-tuple containing the part before the\n",
            " |      separator, the separator itself, and the part after it.\n",
            " |      \n",
            " |      If the separator is not found, returns a 3-tuple containing two empty strings\n",
            " |      and the original string.\n",
            " |  \n",
            " |  rsplit(self, /, sep=None, maxsplit=-1)\n",
            " |      Return a list of the substrings in the string, using sep as the separator string.\n",
            " |      \n",
            " |        sep\n",
            " |          The separator used to split the string.\n",
            " |      \n",
            " |          When set to None (the default value), will split on any whitespace\n",
            " |          character (including \\n \\r \\t \\f and spaces) and will discard\n",
            " |          empty strings from the result.\n",
            " |        maxsplit\n",
            " |          Maximum number of splits.\n",
            " |          -1 (the default value) means no limit.\n",
            " |      \n",
            " |      Splitting starts at the end of the string and works to the front.\n",
            " |  \n",
            " |  rstrip(self, chars=None, /)\n",
            " |      Return a copy of the string with trailing whitespace removed.\n",
            " |      \n",
            " |      If chars is given and not None, remove characters in chars instead.\n",
            " |  \n",
            " |  split(self, /, sep=None, maxsplit=-1)\n",
            " |      Return a list of the substrings in the string, using sep as the separator string.\n",
            " |      \n",
            " |        sep\n",
            " |          The separator used to split the string.\n",
            " |      \n",
            " |          When set to None (the default value), will split on any whitespace\n",
            " |          character (including \\n \\r \\t \\f and spaces) and will discard\n",
            " |          empty strings from the result.\n",
            " |        maxsplit\n",
            " |          Maximum number of splits.\n",
            " |          -1 (the default value) means no limit.\n",
            " |      \n",
            " |      Splitting starts at the front of the string and works to the end.\n",
            " |      \n",
            " |      Note, str.split() is mainly useful for data that has been intentionally\n",
            " |      delimited.  With natural text that includes punctuation, consider using\n",
            " |      the regular expression module.\n",
            " |  \n",
            " |  splitlines(self, /, keepends=False)\n",
            " |      Return a list of the lines in the string, breaking at line boundaries.\n",
            " |      \n",
            " |      Line breaks are not included in the resulting list unless keepends is given and\n",
            " |      true.\n",
            " |  \n",
            " |  startswith(...)\n",
            " |      S.startswith(prefix[, start[, end]]) -> bool\n",
            " |      \n",
            " |      Return True if S starts with the specified prefix, False otherwise.\n",
            " |      With optional start, test S beginning at that position.\n",
            " |      With optional end, stop comparing S at that position.\n",
            " |      prefix can also be a tuple of strings to try.\n",
            " |  \n",
            " |  strip(self, chars=None, /)\n",
            " |      Return a copy of the string with leading and trailing whitespace removed.\n",
            " |      \n",
            " |      If chars is given and not None, remove characters in chars instead.\n",
            " |  \n",
            " |  swapcase(self, /)\n",
            " |      Convert uppercase characters to lowercase and lowercase characters to uppercase.\n",
            " |  \n",
            " |  title(self, /)\n",
            " |      Return a version of the string where each word is titlecased.\n",
            " |      \n",
            " |      More specifically, words start with uppercased characters and all remaining\n",
            " |      cased characters have lower case.\n",
            " |  \n",
            " |  translate(self, table, /)\n",
            " |      Replace each character in the string using the given translation table.\n",
            " |      \n",
            " |        table\n",
            " |          Translation table, which must be a mapping of Unicode ordinals to\n",
            " |          Unicode ordinals, strings, or None.\n",
            " |      \n",
            " |      The table must implement lookup/indexing via __getitem__, for instance a\n",
            " |      dictionary or list.  If this operation raises LookupError, the character is\n",
            " |      left untouched.  Characters mapped to None are deleted.\n",
            " |  \n",
            " |  upper(self, /)\n",
            " |      Return a copy of the string converted to uppercase.\n",
            " |  \n",
            " |  zfill(self, width, /)\n",
            " |      Pad a numeric string with zeros on the left, to fill a field of the given width.\n",
            " |      \n",
            " |      The string is never truncated.\n",
            " |  \n",
            " |  ----------------------------------------------------------------------\n",
            " |  Static methods defined here:\n",
            " |  \n",
            " |  __new__(*args, **kwargs)\n",
            " |      Create and return a new object.  See help(type) for accurate signature.\n",
            " |  \n",
            " |  maketrans(...)\n",
            " |      Return a translation table usable for str.translate().\n",
            " |      \n",
            " |      If there is only one argument, it must be a dictionary mapping Unicode\n",
            " |      ordinals (integers) or characters to Unicode ordinals, strings or None.\n",
            " |      Character keys will be then converted to ordinals.\n",
            " |      If there are two arguments, they must be strings of equal length, and\n",
            " |      in the resulting dictionary, each character in x will be mapped to the\n",
            " |      character at the same position in y. If there is a third argument, it\n",
            " |      must be a string, whose characters will be mapped to None in the result.\n",
            "\n"
          ]
        }
      ]
    },
    {
      "cell_type": "code",
      "source": [
        "#String Methods\n",
        "message  = message.replace(\"World\",\"CPE009\")\n",
        "print(message.upper())\n",
        "print(message.lower())\n",
        "print(message.title())\n",
        "print(\"Value is 1{}, and Value 2 is {}\".format(-1,True))\n",
        "print(message.split())\n",
        "print(message.count(\"I\"))\n",
        "print(message.replace(\"World\",\"CPE009\"))\n",
        "\n",
        "#In an iterative statement\n",
        "for character in message:\n",
        "  print(character)\n",
        "  i=0\n",
        "  while i<len(message):\n",
        "   print(message[i])\n",
        "   i+=1"
      ],
      "metadata": {
        "colab": {
          "base_uri": "https://localhost:8080/"
        },
        "id": "u5lQyI92EuV0",
        "outputId": "bffb6633-a7d6-43bc-c383-935cea93ee8f"
      },
      "execution_count": 30,
      "outputs": [
        {
          "output_type": "stream",
          "name": "stdout",
          "text": [
            "HELLO CPE009\n",
            "hello cpe009\n",
            "Hello Cpe009\n",
            "Value is 1-1, and Value 2 is True\n",
            "['Hello', 'CPE009']\n",
            "0\n",
            "Hello CPE009\n",
            "H\n",
            "H\n",
            "e\n",
            "l\n",
            "l\n",
            "o\n",
            " \n",
            "C\n",
            "P\n",
            "E\n",
            "0\n",
            "0\n",
            "9\n",
            "e\n",
            "H\n",
            "e\n",
            "l\n",
            "l\n",
            "o\n",
            " \n",
            "C\n",
            "P\n",
            "E\n",
            "0\n",
            "0\n",
            "9\n",
            "l\n",
            "H\n",
            "e\n",
            "l\n",
            "l\n",
            "o\n",
            " \n",
            "C\n",
            "P\n",
            "E\n",
            "0\n",
            "0\n",
            "9\n",
            "l\n",
            "H\n",
            "e\n",
            "l\n",
            "l\n",
            "o\n",
            " \n",
            "C\n",
            "P\n",
            "E\n",
            "0\n",
            "0\n",
            "9\n",
            "o\n",
            "H\n",
            "e\n",
            "l\n",
            "l\n",
            "o\n",
            " \n",
            "C\n",
            "P\n",
            "E\n",
            "0\n",
            "0\n",
            "9\n",
            " \n",
            "H\n",
            "e\n",
            "l\n",
            "l\n",
            "o\n",
            " \n",
            "C\n",
            "P\n",
            "E\n",
            "0\n",
            "0\n",
            "9\n",
            "C\n",
            "H\n",
            "e\n",
            "l\n",
            "l\n",
            "o\n",
            " \n",
            "C\n",
            "P\n",
            "E\n",
            "0\n",
            "0\n",
            "9\n",
            "P\n",
            "H\n",
            "e\n",
            "l\n",
            "l\n",
            "o\n",
            " \n",
            "C\n",
            "P\n",
            "E\n",
            "0\n",
            "0\n",
            "9\n",
            "E\n",
            "H\n",
            "e\n",
            "l\n",
            "l\n",
            "o\n",
            " \n",
            "C\n",
            "P\n",
            "E\n",
            "0\n",
            "0\n",
            "9\n",
            "0\n",
            "H\n",
            "e\n",
            "l\n",
            "l\n",
            "o\n",
            " \n",
            "C\n",
            "P\n",
            "E\n",
            "0\n",
            "0\n",
            "9\n",
            "0\n",
            "H\n",
            "e\n",
            "l\n",
            "l\n",
            "o\n",
            " \n",
            "C\n",
            "P\n",
            "E\n",
            "0\n",
            "0\n",
            "9\n",
            "9\n",
            "H\n",
            "e\n",
            "l\n",
            "l\n",
            "o\n",
            " \n",
            "C\n",
            "P\n",
            "E\n",
            "0\n",
            "0\n",
            "9\n"
          ]
        }
      ]
    },
    {
      "cell_type": "markdown",
      "source": [
        "Tuples"
      ],
      "metadata": {
        "id": "25EtKGhGFD2c"
      }
    },
    {
      "cell_type": "code",
      "source": [
        "tuplelist= (1,2,3,4,5)\n",
        "numberlist= (1,2,3,4,5)\n",
        "print(numberlist[0])\n",
        "print(numberlist[1])\n",
        "print(numberlist[2])\n",
        "print(numberlist[3])\n",
        "print(numberlist[4])\n",
        "print(tuplelist  + (1,2,3))\n",
        "\n",
        "\n",
        "print(tuplelist[0:5])\n",
        "\n",
        "for item in tuplelist:\n",
        "  print(item)\n"
      ],
      "metadata": {
        "colab": {
          "base_uri": "https://localhost:8080/"
        },
        "id": "seq4PGpzFGFQ",
        "outputId": "66f80945-ded1-4737-a0bf-dece5014d950"
      },
      "execution_count": 31,
      "outputs": [
        {
          "output_type": "stream",
          "name": "stdout",
          "text": [
            "1\n",
            "2\n",
            "3\n",
            "4\n",
            "5\n",
            "(1, 2, 3, 4, 5, 1, 2, 3)\n",
            "(1, 2, 3, 4, 5)\n",
            "1\n",
            "2\n",
            "3\n",
            "4\n",
            "5\n"
          ]
        }
      ]
    },
    {
      "cell_type": "markdown",
      "source": [
        "Dictionaries"
      ],
      "metadata": {
        "id": "GbiP13SyIwCH"
      }
    },
    {
      "cell_type": "code",
      "source": [
        "contactinfo= {'id':1, 'first_name':'John', 'last_name':'Doe','contact_number':'09060611233','age':'19'}\n",
        "print(contactinfo['id'])\n",
        "print(contactinfo['first_name'])\n",
        "print(contactinfo['last_name'])\n",
        "print(contactinfo['contact_number'])\n",
        "print(contactinfo['age'])\n",
        "\n",
        "for k,v in contactinfo.items():\n",
        "  print(k)\n",
        "\n",
        "for k,v in contactinfo.items():\n",
        "  print(k,v)\n"
      ],
      "metadata": {
        "id": "gNFWWOFUIxI2",
        "colab": {
          "base_uri": "https://localhost:8080/"
        },
        "outputId": "d54ecd42-6301-47e0-814a-4190777c3c9b"
      },
      "execution_count": 32,
      "outputs": [
        {
          "output_type": "stream",
          "name": "stdout",
          "text": [
            "1\n",
            "John\n",
            "Doe\n",
            "09060611233\n",
            "19\n",
            "id\n",
            "first_name\n",
            "last_name\n",
            "contact_number\n",
            "age\n",
            "id 1\n",
            "first_name John\n",
            "last_name Doe\n",
            "contact_number 09060611233\n",
            "age 19\n"
          ]
        }
      ]
    },
    {
      "cell_type": "code",
      "source": [
        "contactinfo= {'id':2, 'first_name':'Max', 'last_name':'Doe','contact_number':'09060611233','age':'19'}\n",
        "print(contactinfo['id'])\n",
        "print(contactinfo['first_name'])\n",
        "print(contactinfo['last_name'])\n",
        "print(contactinfo['contact_number'])\n",
        "print(contactinfo['age'])\n",
        "print(contactinfo)\n",
        "\n",
        "for k,v in contactinfo.items():\n",
        "  print(k)\n",
        "\n",
        "for k,v in contactinfo.items():\n",
        "  print(k,v)"
      ],
      "metadata": {
        "colab": {
          "base_uri": "https://localhost:8080/"
        },
        "id": "MyrOXXLcNLI7",
        "outputId": "b055bf47-16df-4f86-ea11-bb9411084fa1"
      },
      "execution_count": 33,
      "outputs": [
        {
          "output_type": "stream",
          "name": "stdout",
          "text": [
            "2\n",
            "Max\n",
            "Doe\n",
            "09060611233\n",
            "19\n",
            "{'id': 2, 'first_name': 'Max', 'last_name': 'Doe', 'contact_number': '09060611233', 'age': '19'}\n",
            "id\n",
            "first_name\n",
            "last_name\n",
            "contact_number\n",
            "age\n",
            "id 2\n",
            "first_name Max\n",
            "last_name Doe\n",
            "contact_number 09060611233\n",
            "age 19\n"
          ]
        }
      ]
    },
    {
      "cell_type": "markdown",
      "source": [
        "Supplementary Activity"
      ],
      "metadata": {
        "id": "s0yG6rNvSe3y"
      }
    },
    {
      "cell_type": "code",
      "source": [
        "#Distance Formula\n",
        "coordinates_list= [(1,1),(2,3)]\n",
        "\n",
        "#Step 1: Calculate Individually\n",
        "x1, y1= coordinates_list[0]\n",
        "x2, y2= coordinates_list[1]\n",
        "\n",
        "a= (x2-x1)**2\n",
        "print(\"The first coordinate is: \",a)\n",
        "\n",
        "b= (y2-y1)**2\n",
        "print(\"The second coordinate is :\",b)\n",
        "\n",
        "#Step 2: After the calculation,add both coordinates and get the square root\n",
        "Distance= (a+b)**0.5\n",
        "print(\"The distance between two points is:\",Distance)\n"
      ],
      "metadata": {
        "colab": {
          "base_uri": "https://localhost:8080/"
        },
        "id": "6Vs2o0lAUrlB",
        "outputId": "ac1a0656-55b3-4c23-86c0-2671a27df00b"
      },
      "execution_count": 34,
      "outputs": [
        {
          "output_type": "stream",
          "name": "stdout",
          "text": [
            "The first coordinate is:  1\n",
            "The second coordinate is : 4\n",
            "The distance between two points is: 2.23606797749979\n"
          ]
        }
      ]
    },
    {
      "cell_type": "code",
      "source": [
        "#Simple Word Filter\n",
        "Sentence= \"That's quite....a stupid tactic, but ok...\"\n",
        "Sentence2= \"I feel stupid knowing that i didn't do my homwework.\"\n",
        "Sentence3= \"And there he had realized he made a stupid decision.\"\n",
        "\n",
        "#With Asterisk\n",
        "Sentence.replace(\"stupid\",\"*****\")\n",
        "Sentence2.replace(\"stupid\",\"*****\")\n",
        "Sentence3.replace(\"stupid\",\"*****\")\n",
        "\n",
        "#Output\n",
        "print(Sentence.replace(\"stupid\",\"*****\"))\n",
        "print(Sentence2.replace(\"stupid\",\"*****\"))\n",
        "print(Sentence3.replace(\"stupid\",\"*****\"))\n",
        "\n",
        "\n"
      ],
      "metadata": {
        "colab": {
          "base_uri": "https://localhost:8080/"
        },
        "id": "kDHTj5MiacSY",
        "outputId": "ffa19b21-afe0-4d8a-9add-842c7f9f8717"
      },
      "execution_count": 35,
      "outputs": [
        {
          "output_type": "stream",
          "name": "stdout",
          "text": [
            "That's quite....a ***** tactic, but ok...\n",
            "I feel ***** knowing that i didn't do my homwework.\n",
            "And there he had realized he made a ***** decision.\n"
          ]
        }
      ]
    },
    {
      "cell_type": "code",
      "source": [
        "#Phonebook\n",
        "contactinfo= {'id':1, 'first_name':'John', 'last_name':'Doe','contact_number':'09060611233','age':'19','address':'Block 5 Lot 8 Thailand Street'}\n",
        "contactinfo2= {'id':2, 'first_name':'Jane', 'last_name':'Doe','contact_number':'09014673123','age':'18','address':'Block 7 Lot 11 Vietnam Street'}\n",
        "contactinfo3=  {'id':3, 'first_name':'Kenneth', 'last_name':'Johnson','contact_number':'09124863901','age':'21','address':'Block 1 Lot 6 Taiwan Street'}\n",
        "\n",
        "id= int(input(\"Enter the id: \"))\n",
        "if id==1:\n",
        "    print(contactinfo['id'])\n",
        "    print(contactinfo['first_name'])\n",
        "    print(contactinfo['last_name'])\n",
        "    print(contactinfo['contact_number'])\n",
        "    print(contactinfo['age'])\n",
        "    print(contactinfo['address'])\n",
        "\n",
        "if id==2:\n",
        "   print(contactinfo2['id'])\n",
        "   print(contactinfo2['first_name'])\n",
        "   print(contactinfo2['last_name'])\n",
        "   print(contactinfo2['contact_number'])\n",
        "   print(contactinfo2['age'])\n",
        "   print(contactinfo2['address'])\n",
        "\n",
        "elif id==3:\n",
        "   print(contactinfo3['id'])\n",
        "   print(contactinfo3['first_name'])\n",
        "   print(contactinfo3['last_name'])\n",
        "   print(contactinfo3['contact_number'])\n",
        "   print(contactinfo3['age'])\n",
        "   print(contactinfo3['address'])\n",
        "\n",
        "else:\n",
        "  print(\"Not found\")\n",
        "\n",
        "\n",
        "\n"
      ],
      "metadata": {
        "colab": {
          "base_uri": "https://localhost:8080/"
        },
        "id": "0z4g8ujAu8n6",
        "outputId": "eb84b462-87fc-4fab-f9fd-dbd8492734fe"
      },
      "execution_count": 36,
      "outputs": [
        {
          "output_type": "stream",
          "name": "stdout",
          "text": [
            "Enter the id: 4\n",
            "Not found\n"
          ]
        }
      ]
    }
  ]
}