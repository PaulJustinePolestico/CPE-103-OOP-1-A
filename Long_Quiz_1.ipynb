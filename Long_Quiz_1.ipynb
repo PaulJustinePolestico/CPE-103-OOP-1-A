{
  "nbformat": 4,
  "nbformat_minor": 0,
  "metadata": {
    "colab": {
      "provenance": [],
      "authorship_tag": "ABX9TyMbzckQCR/PTvhVWH0QOaVg",
      "include_colab_link": true
    },
    "kernelspec": {
      "name": "python3",
      "display_name": "Python 3"
    },
    "language_info": {
      "name": "python"
    }
  },
  "cells": [
    {
      "cell_type": "markdown",
      "metadata": {
        "id": "view-in-github",
        "colab_type": "text"
      },
      "source": [
        "<a href=\"https://colab.research.google.com/github/PaulJustinePolestico/CPE-103-OOP-1-A/blob/main/Long_Quiz_1.ipynb\" target=\"_parent\"><img src=\"https://colab.research.google.com/assets/colab-badge.svg\" alt=\"Open In Colab\"/></a>"
      ]
    },
    {
      "cell_type": "code",
      "execution_count": 56,
      "metadata": {
        "colab": {
          "base_uri": "https://localhost:8080/"
        },
        "id": "VVu2WKVYoNLN",
        "outputId": "dbc786a1-10e6-4796-f37f-16d633288298"
      },
      "outputs": [
        {
          "output_type": "stream",
          "name": "stdout",
          "text": [
            "Enter Student ID: 123\n",
            "Enter Student Name: Ana\n",
            "Enter Student Program: BSCPE\n",
            "Bachelor of Science in Computer Engineering\n",
            "Object-Oriented Programming (CPE 103)\n",
            "Enter Student Sex: Female\n",
            "Enter Student Weight(kg): 71\n",
            "Enter Student Height(cm): 167\n",
            "Enter Class Standing Quiz Grade: 88\n",
            "Enter Seatwork Grade: 88\n",
            "Enter Assignment Grade: 88\n",
            "Enter Recitation Grade: 88\n",
            "Midterm Grade: 88.0\n",
            "Enter Class Standing Quiz Grade: 90\n",
            "Enter Seatwork Grade: 90\n",
            "Enter Assignment Grade: 90\n",
            "Enter Recitation Grade: 90\n",
            "Final Grade: 80.4\n",
            "2.50\n"
          ]
        }
      ],
      "source": [
        "# Phyton Class for Student\n",
        "class Student:\n",
        "    def __init__(self, student_id, name, program, sex, weight, height, subject):\n",
        "        self.student_id = student_id\n",
        "        self.name = name\n",
        "        self.program = program\n",
        "        self.sex = sex\n",
        "        self.weight = weight\n",
        "        self.height = height\n",
        "        self.subject = subject\n",
        "\n",
        "student_id = int(input(\"Enter Student ID: \"))\n",
        "name = input(\"Enter Student Name: \")\n",
        "program = input(\"Enter Student Program: \")\n",
        "\n",
        "\n",
        "def get_program_name(program):\n",
        "    if program == \"BSCPE\":\n",
        "        return \"Bachelor of Science in Computer Engineering\"\n",
        "    elif program == \"BSECE\":\n",
        "        return \"Bachelor of Science in Electronics Engineering\"\n",
        "    elif program == \"BSIE\":\n",
        "        return \"Bachelor of Science in Industrial Engineering\"\n",
        "    elif program == \"BSEE\":\n",
        "        return \"Bachelor of Science in Electrical Engineering\"\n",
        "    else:\n",
        "        return \"Student not in any Program.\"\n",
        "\n",
        "program_name = get_program_name(program)\n",
        "print(program_name)\n",
        "\n",
        "\n",
        "def get_subject_name(program):\n",
        "    if program == \"BSCPE\":\n",
        "        return \"Object-Oriented Programming (CPE 103)\"\n",
        "    elif program == \"BSECE\":\n",
        "        return \"Circuit Analysis (ECE 101)\"\n",
        "    elif program == \"BSIE\":\n",
        "        return \"Statistical Analysis for Industrial Engineering (INEN104)\"\n",
        "    elif program == \"BSEE\":\n",
        "        return \"Electrical Circuits 1 (EE 401)\"\n",
        "    else:\n",
        "        return \"Subject not found for this program.\"\n",
        "\n",
        "subject_name = get_subject_name(program)\n",
        "print(subject_name)\n",
        "\n",
        "\n",
        "sex = input(\"Enter Student Sex: \")\n",
        "weight = input(\"Enter Student Weight(kg): \")\n",
        "height = input(\"Enter Student Height(cm): \")\n",
        "\n",
        "# Midterm Grade\n",
        "class_standing_quiz = float(input(\"Enter Class Standing Quiz Grade: \"))\n",
        "seatwork = float(input(\"Enter Seatwork Grade: \"))\n",
        "assignment = float(input(\"Enter Assignment Grade: \"))\n",
        "recitation = float(input(\"Enter Recitation Grade: \"))\n",
        "midterm_grade = (class_standing_quiz + seatwork + assignment + recitation) / 4\n",
        "\n",
        "print(\"Midterm Grade:\", midterm_grade)\n",
        "\n",
        "# Final Grade\n",
        "class_standing_quiz = float(input(\"Enter Class Standing Quiz Grade: \"))\n",
        "seatwork = float(input(\"Enter Seatwork Grade: \"))\n",
        "assignment = float(input(\"Enter Assignment Grade: \"))\n",
        "recitation = float(input(\"Enter Recitation Grade: \"))\n",
        "final_grade = (class_standing_quiz + seatwork + assignment + recitation) / 4\n",
        "\n",
        "# Final Grade Overall\n",
        "final_grade_overall = midterm_grade * 0.3 + final_grade * 0.6\n",
        "\n",
        "print(\"Final Grade:\", final_grade_overall)\n",
        "\n",
        "if final_grade_overall >= 99:\n",
        "    print(\"1.00\")\n",
        "elif final_grade_overall >= 96:\n",
        "    print(\"1.25\")\n",
        "elif final_grade_overall >= 93:\n",
        "    print(\"1.50\")\n",
        "elif final_grade_overall >= 90:\n",
        "    print(\"1.75\")\n",
        "elif final_grade_overall >= 87:\n",
        "    print(\"2.00\")\n",
        "elif final_grade_overall >= 83:\n",
        "    print(\"2.25\")\n",
        "elif final_grade_overall >= 80:\n",
        "    print(\"2.50\")\n",
        "elif final_grade_overall >= 77:\n",
        "    print(\"2.75\")\n",
        "elif final_grade_overall >= 75:\n",
        "    print(\"3.00\")\n",
        "elif final_grade_overall >= 72:\n",
        "    print(\"4.00\")\n",
        "elif final_grade_overall < 71:\n",
        "    print(5.0)\n",
        "else:\n",
        "    print(\"Incomplete\")"
      ]
    }
  ]
}