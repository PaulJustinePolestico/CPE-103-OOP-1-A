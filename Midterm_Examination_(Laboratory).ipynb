{
  "nbformat": 4,
  "nbformat_minor": 0,
  "metadata": {
    "colab": {
      "provenance": [],
      "authorship_tag": "ABX9TyPLna4kxVRqs+GQVNgCghki",
      "include_colab_link": true
    },
    "kernelspec": {
      "name": "python3",
      "display_name": "Python 3"
    },
    "language_info": {
      "name": "python"
    }
  },
  "cells": [
    {
      "cell_type": "markdown",
      "metadata": {
        "id": "view-in-github",
        "colab_type": "text"
      },
      "source": [
        "<a href=\"https://colab.research.google.com/github/PaulJustinePolestico/CPE-103-OOP-1-A/blob/main/Midterm_Examination_(Laboratory).ipynb\" target=\"_parent\"><img src=\"https://colab.research.google.com/assets/colab-badge.svg\" alt=\"Open In Colab\"/></a>"
      ]
    },
    {
      "cell_type": "markdown",
      "source": [
        "Midterm Examination (Laboratory)"
      ],
      "metadata": {
        "id": "tnpda09eT59r"
      }
    },
    {
      "cell_type": "markdown",
      "source": [
        "1-10"
      ],
      "metadata": {
        "id": "KoRN2Y65UCnr"
      }
    },
    {
      "cell_type": "code",
      "source": [
        "i = 1\n",
        "while True:\n",
        "  if i%3 == 0:\n",
        "    break\n",
        "    print(i)\n",
        "\n",
        "i + = 1"
      ],
      "metadata": {
        "colab": {
          "base_uri": "https://localhost:8080/",
          "height": 106
        },
        "id": "JkOYYNMNUISL",
        "outputId": "6ceeb945-75cd-420c-b545-132cb1547cb1"
      },
      "execution_count": 99,
      "outputs": [
        {
          "output_type": "error",
          "ename": "SyntaxError",
          "evalue": "invalid syntax (<ipython-input-99-e30bf3146d9b>, line 7)",
          "traceback": [
            "\u001b[0;36m  File \u001b[0;32m\"<ipython-input-99-e30bf3146d9b>\"\u001b[0;36m, line \u001b[0;32m7\u001b[0m\n\u001b[0;31m    i + = 1\u001b[0m\n\u001b[0m        ^\u001b[0m\n\u001b[0;31mSyntaxError\u001b[0m\u001b[0;31m:\u001b[0m invalid syntax\n"
          ]
        }
      ]
    },
    {
      "cell_type": "markdown",
      "source": [
        "11-20"
      ],
      "metadata": {
        "id": "nTqVy2p3Uf1b"
      }
    },
    {
      "cell_type": "code",
      "source": [
        "i = 0\n",
        "while i < 5:\n",
        "  print(i)\n",
        "  i +=1\n",
        "  if i == 3:\n",
        "    break\n",
        "else:\n",
        "  print(0)"
      ],
      "metadata": {
        "colab": {
          "base_uri": "https://localhost:8080/"
        },
        "id": "Ix43Cp7CUg0r",
        "outputId": "a2c5ad72-4170-4fa9-cd5d-b63b4927964d"
      },
      "execution_count": 20,
      "outputs": [
        {
          "output_type": "stream",
          "name": "stdout",
          "text": [
            "0\n",
            "1\n",
            "2\n"
          ]
        }
      ]
    },
    {
      "cell_type": "markdown",
      "source": [
        "21-30"
      ],
      "metadata": {
        "id": "7ZVXSVnUV1W0"
      }
    },
    {
      "cell_type": "code",
      "source": [
        "def f1():\n",
        "  x=15\n",
        "  print(x)\n",
        "\n",
        "x=12\n",
        "f1()"
      ],
      "metadata": {
        "colab": {
          "base_uri": "https://localhost:8080/"
        },
        "id": "gWeF5xyvV2Ub",
        "outputId": "0d35aab7-5bc7-4964-895e-e2548eb78337"
      },
      "execution_count": 31,
      "outputs": [
        {
          "output_type": "stream",
          "name": "stdout",
          "text": [
            "15\n"
          ]
        }
      ]
    },
    {
      "cell_type": "markdown",
      "source": [
        "31-40"
      ],
      "metadata": {
        "id": "vSH7qOW0WVn7"
      }
    },
    {
      "cell_type": "code",
      "source": [
        "class Person():\n",
        "  def __init__(self):\n",
        "    self.__name = \"Default Name\"\n",
        "\n",
        "person1= Person()\n",
        "print(self.__name)"
      ],
      "metadata": {
        "colab": {
          "base_uri": "https://localhost:8080/",
          "height": 176
        },
        "id": "pzzBI-xzWXby",
        "outputId": "7ca6ef24-0b73-42fe-9ab3-922d1029343c"
      },
      "execution_count": 58,
      "outputs": [
        {
          "output_type": "error",
          "ename": "NameError",
          "evalue": "name 'self' is not defined",
          "traceback": [
            "\u001b[0;31m---------------------------------------------------------------------------\u001b[0m",
            "\u001b[0;31mNameError\u001b[0m                                 Traceback (most recent call last)",
            "\u001b[0;32m<ipython-input-58-06140982b2af>\u001b[0m in \u001b[0;36m<cell line: 0>\u001b[0;34m()\u001b[0m\n\u001b[1;32m      4\u001b[0m \u001b[0;34m\u001b[0m\u001b[0m\n\u001b[1;32m      5\u001b[0m \u001b[0mperson1\u001b[0m\u001b[0;34m=\u001b[0m \u001b[0mPerson\u001b[0m\u001b[0;34m(\u001b[0m\u001b[0;34m)\u001b[0m\u001b[0;34m\u001b[0m\u001b[0;34m\u001b[0m\u001b[0m\n\u001b[0;32m----> 6\u001b[0;31m \u001b[0mprint\u001b[0m\u001b[0;34m(\u001b[0m\u001b[0mself\u001b[0m\u001b[0;34m.\u001b[0m\u001b[0m__name\u001b[0m\u001b[0;34m)\u001b[0m\u001b[0;34m\u001b[0m\u001b[0;34m\u001b[0m\u001b[0m\n\u001b[0m",
            "\u001b[0;31mNameError\u001b[0m: name 'self' is not defined"
          ]
        }
      ]
    },
    {
      "cell_type": "markdown",
      "source": [
        "41-60"
      ],
      "metadata": {
        "id": "nFGyRAN1Xzjb"
      }
    },
    {
      "cell_type": "code",
      "source": [
        "class Person():\n",
        "  def __init__(self):\n",
        "    self.__name = \"Default Name\"\n",
        "\n",
        "person1= Person()\n",
        "person2= Person()\n",
        "print(person1)\n",
        "print(person2)"
      ],
      "metadata": {
        "colab": {
          "base_uri": "https://localhost:8080/"
        },
        "id": "MJNwERMsX1KT",
        "outputId": "c620cde4-e5c5-4a03-a953-833063c47e50"
      },
      "execution_count": 71,
      "outputs": [
        {
          "output_type": "stream",
          "name": "stdout",
          "text": [
            "<__main__.Person object at 0x7c753173b210>\n",
            "<__main__.Person object at 0x7c753173a790>\n"
          ]
        }
      ]
    },
    {
      "cell_type": "markdown",
      "source": [
        "61-80"
      ],
      "metadata": {
        "id": "IXjK4GFFY9ab"
      }
    },
    {
      "cell_type": "code",
      "source": [
        "class Student():\n",
        "  def __init__(self,student_number,name):\n",
        "    self.stu_number=student_number\n",
        "    self.stu_name=name\n",
        "\n",
        "class DSCOfficer(Student):\n",
        "  def __init__(self, department):\n",
        "    self.department = department\n",
        "    self.event_list = []\n",
        "\n",
        "def initiateEvent(self,name):\n",
        "  self.event_list.append({\"name\":name})\n",
        "\n",
        "officer1= DSCOfficer (\"CpE\")\n",
        "officer1.initiateEvent(\"General Assembly\")\n",
        "print(officer1.event_list)"
      ],
      "metadata": {
        "colab": {
          "base_uri": "https://localhost:8080/",
          "height": 193
        },
        "id": "7RS5OlQaY_Cr",
        "outputId": "5d205a0b-b239-463a-b62d-287be2f0ac23"
      },
      "execution_count": 98,
      "outputs": [
        {
          "output_type": "error",
          "ename": "AttributeError",
          "evalue": "'DSCOfficer' object has no attribute 'initiateEvent'",
          "traceback": [
            "\u001b[0;31m---------------------------------------------------------------------------\u001b[0m",
            "\u001b[0;31mAttributeError\u001b[0m                            Traceback (most recent call last)",
            "\u001b[0;32m<ipython-input-98-428fd06b58c0>\u001b[0m in \u001b[0;36m<cell line: 0>\u001b[0;34m()\u001b[0m\n\u001b[1;32m     13\u001b[0m \u001b[0;34m\u001b[0m\u001b[0m\n\u001b[1;32m     14\u001b[0m \u001b[0mofficer1\u001b[0m\u001b[0;34m=\u001b[0m \u001b[0mDSCOfficer\u001b[0m \u001b[0;34m(\u001b[0m\u001b[0;34m\"CpE\"\u001b[0m\u001b[0;34m)\u001b[0m\u001b[0;34m\u001b[0m\u001b[0;34m\u001b[0m\u001b[0m\n\u001b[0;32m---> 15\u001b[0;31m \u001b[0mofficer1\u001b[0m\u001b[0;34m.\u001b[0m\u001b[0minitiateEvent\u001b[0m\u001b[0;34m(\u001b[0m\u001b[0;34m\"General Assembly\"\u001b[0m\u001b[0;34m)\u001b[0m\u001b[0;34m\u001b[0m\u001b[0;34m\u001b[0m\u001b[0m\n\u001b[0m\u001b[1;32m     16\u001b[0m \u001b[0mprint\u001b[0m\u001b[0;34m(\u001b[0m\u001b[0mofficer1\u001b[0m\u001b[0;34m.\u001b[0m\u001b[0mevent_list\u001b[0m\u001b[0;34m)\u001b[0m\u001b[0;34m\u001b[0m\u001b[0;34m\u001b[0m\u001b[0m\n",
            "\u001b[0;31mAttributeError\u001b[0m: 'DSCOfficer' object has no attribute 'initiateEvent'"
          ]
        }
      ]
    }
  ]
}