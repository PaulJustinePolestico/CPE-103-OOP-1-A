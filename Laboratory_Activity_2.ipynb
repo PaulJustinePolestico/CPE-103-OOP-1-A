{
  "nbformat": 4,
  "nbformat_minor": 0,
  "metadata": {
    "colab": {
      "provenance": [],
      "authorship_tag": "ABX9TyOq5hwAOdyhXdTmcUvOMtwa",
      "include_colab_link": true
    },
    "kernelspec": {
      "name": "python3",
      "display_name": "Python 3"
    },
    "language_info": {
      "name": "python"
    }
  },
  "cells": [
    {
      "cell_type": "markdown",
      "metadata": {
        "id": "view-in-github",
        "colab_type": "text"
      },
      "source": [
        "<a href=\"https://colab.research.google.com/github/PaulJustinePolestico/CPE-103-OOP-1-A/blob/main/Laboratory_Activity_2.ipynb\" target=\"_parent\"><img src=\"https://colab.research.google.com/assets/colab-badge.svg\" alt=\"Open In Colab\"/></a>"
      ]
    },
    {
      "cell_type": "markdown",
      "source": [
        "Laboratory Activity 2"
      ],
      "metadata": {
        "id": "YEsablBtoDFu"
      }
    },
    {
      "cell_type": "markdown",
      "source": [
        "1.Assigning Variables of different data types in Phyton"
      ],
      "metadata": {
        "id": "7NGWygjgrBbO"
      }
    },
    {
      "cell_type": "code",
      "execution_count": 20,
      "metadata": {
        "colab": {
          "base_uri": "https://localhost:8080/"
        },
        "id": "g8TwHFg6n98d",
        "outputId": "9011ca68-9ef3-488a-99cb-e99e1207efe2"
      },
      "outputs": [
        {
          "output_type": "stream",
          "name": "stdout",
          "text": [
            "5\n"
          ]
        }
      ],
      "source": [
        "value=5\n",
        "print(value)"
      ]
    },
    {
      "cell_type": "code",
      "source": [
        "value=2+3j\n",
        "print (value)"
      ],
      "metadata": {
        "colab": {
          "base_uri": "https://localhost:8080/"
        },
        "id": "tzuCe7_9o6NY",
        "outputId": "b73b816e-fcd8-4491-c206-45292f9919a1"
      },
      "execution_count": 25,
      "outputs": [
        {
          "output_type": "stream",
          "name": "stdout",
          "text": [
            "(2+3j)\n"
          ]
        }
      ]
    },
    {
      "cell_type": "code",
      "source": [
        "value='Hello World'\n",
        "print(value)"
      ],
      "metadata": {
        "colab": {
          "base_uri": "https://localhost:8080/"
        },
        "id": "ZF9Q21iNpaBX",
        "outputId": "afd1aec0-9d6e-4763-c985-3b73c82701f1"
      },
      "execution_count": 26,
      "outputs": [
        {
          "output_type": "stream",
          "name": "stdout",
          "text": [
            "Hello World\n"
          ]
        }
      ]
    },
    {
      "cell_type": "code",
      "source": [
        "value=\"Hello World\"\n",
        "print(value)"
      ],
      "metadata": {
        "colab": {
          "base_uri": "https://localhost:8080/"
        },
        "id": "UuHuZ3D7pgAW",
        "outputId": "61217e28-dedd-4767-b337-d46cad1cb0b9"
      },
      "execution_count": 27,
      "outputs": [
        {
          "output_type": "stream",
          "name": "stdout",
          "text": [
            "Hello World\n"
          ]
        }
      ]
    },
    {
      "cell_type": "code",
      "source": [
        "value=True\n",
        "print(value)"
      ],
      "metadata": {
        "colab": {
          "base_uri": "https://localhost:8080/"
        },
        "id": "SCl-ZJ6KplWV",
        "outputId": "17469bde-d0b1-4df3-fcca-b0c03008d3a8"
      },
      "execution_count": 28,
      "outputs": [
        {
          "output_type": "stream",
          "name": "stdout",
          "text": [
            "True\n"
          ]
        }
      ]
    },
    {
      "cell_type": "code",
      "source": [
        "value=False\n",
        "print(value)"
      ],
      "metadata": {
        "colab": {
          "base_uri": "https://localhost:8080/"
        },
        "id": "lRR_FnAdpuFG",
        "outputId": "61cbf5b0-02af-4782-8120-ff7c2cd06fd9"
      },
      "execution_count": 29,
      "outputs": [
        {
          "output_type": "stream",
          "name": "stdout",
          "text": [
            "False\n"
          ]
        }
      ]
    },
    {
      "cell_type": "code",
      "source": [
        "value=[1,2,3,4,5]\n",
        "print(value)"
      ],
      "metadata": {
        "colab": {
          "base_uri": "https://localhost:8080/"
        },
        "id": "RGNbLGnYp1cf",
        "outputId": "f70593a4-ce56-404c-f765-66814ed353cd"
      },
      "execution_count": 30,
      "outputs": [
        {
          "output_type": "stream",
          "name": "stdout",
          "text": [
            "[1, 2, 3, 4, 5]\n"
          ]
        }
      ]
    },
    {
      "cell_type": "code",
      "source": [
        "value=(1,2,3,4,5)\n",
        "print(value)"
      ],
      "metadata": {
        "colab": {
          "base_uri": "https://localhost:8080/"
        },
        "id": "pbZsb2v2qASm",
        "outputId": "d6ab3644-b98d-44aa-fe52-442ee37c4f14"
      },
      "execution_count": 31,
      "outputs": [
        {
          "output_type": "stream",
          "name": "stdout",
          "text": [
            "(1, 2, 3, 4, 5)\n"
          ]
        }
      ]
    },
    {
      "cell_type": "code",
      "source": [
        "value={'name': 'Your name'}\n",
        "print(value)"
      ],
      "metadata": {
        "colab": {
          "base_uri": "https://localhost:8080/"
        },
        "id": "Dbx-JYKsqGHu",
        "outputId": "31d2765c-c787-46b0-8c7a-e6f4cf4e4431"
      },
      "execution_count": 37,
      "outputs": [
        {
          "output_type": "stream",
          "name": "stdout",
          "text": [
            "{'name': 'Your name'}\n"
          ]
        }
      ]
    },
    {
      "cell_type": "code",
      "source": [
        "value=None\n",
        "print(value)"
      ],
      "metadata": {
        "colab": {
          "base_uri": "https://localhost:8080/"
        },
        "id": "I1wZeTviqape",
        "outputId": "3086f591-7714-4e30-ccf9-c9646add8914"
      },
      "execution_count": 34,
      "outputs": [
        {
          "output_type": "stream",
          "name": "stdout",
          "text": [
            "None\n"
          ]
        }
      ]
    },
    {
      "cell_type": "code",
      "source": [
        "value=5\n",
        "print(value)"
      ],
      "metadata": {
        "colab": {
          "base_uri": "https://localhost:8080/"
        },
        "id": "QWO_kAdLpM53",
        "outputId": "46f3e28c-48b5-4c67-ba0f-eebae65b20f3"
      },
      "execution_count": 39,
      "outputs": [
        {
          "output_type": "stream",
          "name": "stdout",
          "text": [
            "5\n"
          ]
        }
      ]
    },
    {
      "cell_type": "code",
      "source": [
        "value1=1\n",
        "value2= -7\n",
        "print (value1+value2)"
      ],
      "metadata": {
        "colab": {
          "base_uri": "https://localhost:8080/"
        },
        "id": "wtny2TIlrFwO",
        "outputId": "f189e3d4-6139-4c79-b24e-b957399894c4"
      },
      "execution_count": 52,
      "outputs": [
        {
          "output_type": "stream",
          "name": "stdout",
          "text": [
            "-6\n"
          ]
        }
      ]
    },
    {
      "cell_type": "markdown",
      "source": [
        "2.Performing Operations with Phyton"
      ],
      "metadata": {
        "id": "ZF-dyYn0tuRX"
      }
    },
    {
      "cell_type": "code",
      "source": [
        "value=3\n",
        "value2=5\n",
        "print(value+value2)"
      ],
      "metadata": {
        "colab": {
          "base_uri": "https://localhost:8080/"
        },
        "id": "jzi_Xv86tu-l",
        "outputId": "392cfa42-d16c-43e9-848c-b7abd1d569f1"
      },
      "execution_count": 53,
      "outputs": [
        {
          "output_type": "stream",
          "name": "stdout",
          "text": [
            "8\n"
          ]
        }
      ]
    },
    {
      "cell_type": "code",
      "source": [
        "value,value2=5.0,-6\n",
        "print(value+value2)"
      ],
      "metadata": {
        "colab": {
          "base_uri": "https://localhost:8080/"
        },
        "id": "-E_QLZxqufCf",
        "outputId": "4346a360-5340-45ff-f020-e27ab05f00ea"
      },
      "execution_count": 54,
      "outputs": [
        {
          "output_type": "stream",
          "name": "stdout",
          "text": [
            "-1.0\n"
          ]
        }
      ]
    },
    {
      "cell_type": "code",
      "source": [
        "value,value2=-5, 6.1\n",
        "print(value+value2)"
      ],
      "metadata": {
        "colab": {
          "base_uri": "https://localhost:8080/"
        },
        "id": "1uiBqaL9uvjn",
        "outputId": "3bab3068-bbcb-47b3-e6a5-7c462324ece7"
      },
      "execution_count": 55,
      "outputs": [
        {
          "output_type": "stream",
          "name": "stdout",
          "text": [
            "1.0999999999999996\n"
          ]
        }
      ]
    },
    {
      "cell_type": "code",
      "source": [
        "value, value2=\"Hello\", \"World\"\n",
        "print(value + \"\", value2)"
      ],
      "metadata": {
        "colab": {
          "base_uri": "https://localhost:8080/"
        },
        "id": "i2jALMTfu7-u",
        "outputId": "aaa2ae71-1048-44d2-ea80-59fc01113e5e"
      },
      "execution_count": 66,
      "outputs": [
        {
          "output_type": "stream",
          "name": "stdout",
          "text": [
            "Hello World\n"
          ]
        }
      ]
    },
    {
      "cell_type": "code",
      "source": [
        "value,value2=[1,2,3], [4,5,6]\n",
        "print(value + value2)"
      ],
      "metadata": {
        "colab": {
          "base_uri": "https://localhost:8080/"
        },
        "id": "v8fOguEKvnfA",
        "outputId": "c4efa6b7-8baf-4d14-fb2b-c0727c9e10bf"
      },
      "execution_count": 70,
      "outputs": [
        {
          "output_type": "stream",
          "name": "stdout",
          "text": [
            "[1, 2, 3, 4, 5, 6]\n"
          ]
        }
      ]
    },
    {
      "cell_type": "code",
      "source": [
        "value,value2=(1,2,3), (4,5,6)\n",
        "print(value + value2)"
      ],
      "metadata": {
        "colab": {
          "base_uri": "https://localhost:8080/"
        },
        "id": "kJkRLTRhwGgP",
        "outputId": "f9f57803-3aa9-4eaf-e973-ca9eb5b4db44"
      },
      "execution_count": 73,
      "outputs": [
        {
          "output_type": "stream",
          "name": "stdout",
          "text": [
            "(1, 2, 3, 4, 5, 6)\n"
          ]
        }
      ]
    },
    {
      "cell_type": "code",
      "source": [
        "value,value2= {\"name\": \"Royce\"}, {\"age\":2}\n",
        "print (value,value2)"
      ],
      "metadata": {
        "colab": {
          "base_uri": "https://localhost:8080/"
        },
        "id": "wtN4vzZHwYLP",
        "outputId": "9ec8cb61-eb2a-4d18-f35b-62899fa3361a"
      },
      "execution_count": 81,
      "outputs": [
        {
          "output_type": "stream",
          "name": "stdout",
          "text": [
            "{'name': 'Royce'} {'age': 2}\n"
          ]
        }
      ]
    },
    {
      "cell_type": "code",
      "source": [
        "value, value2= 30,4\n",
        "print(value*value2)"
      ],
      "metadata": {
        "colab": {
          "base_uri": "https://localhost:8080/"
        },
        "id": "pVkBPgDQxKYO",
        "outputId": "0024da2f-3bf6-461f-aa24-82a6f088e35f"
      },
      "execution_count": 82,
      "outputs": [
        {
          "output_type": "stream",
          "name": "stdout",
          "text": [
            "120\n"
          ]
        }
      ]
    },
    {
      "cell_type": "code",
      "source": [
        "value,value2= 30,4\n",
        "print(value2**2)"
      ],
      "metadata": {
        "colab": {
          "base_uri": "https://localhost:8080/"
        },
        "id": "0cSx-s5yxfDX",
        "outputId": "db84bfb7-b81b-4e00-c3f2-c65903ecc84d"
      },
      "execution_count": 84,
      "outputs": [
        {
          "output_type": "stream",
          "name": "stdout",
          "text": [
            "16\n"
          ]
        }
      ]
    },
    {
      "cell_type": "code",
      "source": [
        "value,value2=30,4\n",
        "print(value2**3)"
      ],
      "metadata": {
        "colab": {
          "base_uri": "https://localhost:8080/"
        },
        "id": "DZcaQ0tWxoa_",
        "outputId": "3a00fde6-fc21-4008-cc14-ce928936ac8e"
      },
      "execution_count": 86,
      "outputs": [
        {
          "output_type": "stream",
          "name": "stdout",
          "text": [
            "64\n"
          ]
        }
      ]
    },
    {
      "cell_type": "code",
      "source": [
        "value, value2=30,4\n",
        "print(value*value2+value2**2+1)"
      ],
      "metadata": {
        "colab": {
          "base_uri": "https://localhost:8080/"
        },
        "id": "UWJa76i-xxCe",
        "outputId": "28be0081-8cfd-41ca-8124-2e0c62fc193c"
      },
      "execution_count": 87,
      "outputs": [
        {
          "output_type": "stream",
          "name": "stdout",
          "text": [
            "137\n"
          ]
        }
      ]
    },
    {
      "cell_type": "code",
      "source": [
        "value,value2=30,4\n",
        "print(value/value2)"
      ],
      "metadata": {
        "colab": {
          "base_uri": "https://localhost:8080/"
        },
        "id": "509CLm5lx8oX",
        "outputId": "8703893d-b8cf-42c3-aac2-b3608890f543"
      },
      "execution_count": 88,
      "outputs": [
        {
          "output_type": "stream",
          "name": "stdout",
          "text": [
            "7.5\n"
          ]
        }
      ]
    },
    {
      "cell_type": "code",
      "source": [
        "value,value2=30,4\n",
        "print(value%value2)"
      ],
      "metadata": {
        "colab": {
          "base_uri": "https://localhost:8080/"
        },
        "id": "8wRuAhl0yDPO",
        "outputId": "a8c5c347-3266-4506-d11b-31a88c1da21c"
      },
      "execution_count": 89,
      "outputs": [
        {
          "output_type": "stream",
          "name": "stdout",
          "text": [
            "2\n"
          ]
        }
      ]
    },
    {
      "cell_type": "markdown",
      "source": [
        "3.Assigning Input Data to a Variable"
      ],
      "metadata": {
        "id": "OXidWD7lz32G"
      }
    },
    {
      "cell_type": "code",
      "source": [
        "name=input(\"Enter your name: \")\n",
        "weight=float(input(\"Enter your weight(kg): \"))\n",
        "height=float(input(\"Enter your meters(m): \"))\n",
        "\n",
        "bmi=weight/height**2\n",
        "print(name)\n",
        "print(weight)\n",
        "print(height)\n",
        "print(bmi)"
      ],
      "metadata": {
        "colab": {
          "base_uri": "https://localhost:8080/"
        },
        "id": "CftVU7RJ0i6_",
        "outputId": "91ad335f-d278-4bfa-c22f-5041d85d0130"
      },
      "execution_count": 101,
      "outputs": [
        {
          "output_type": "stream",
          "name": "stdout",
          "text": [
            "Enter your name: Paul\n",
            "Enter your weight(kg): 72.4\n",
            "Enter your meters(m): 1.75\n",
            "Paul\n",
            "72.4\n",
            "1.75\n",
            "23.640816326530615\n"
          ]
        }
      ]
    },
    {
      "cell_type": "markdown",
      "source": [
        "3.Supplementary Activity"
      ],
      "metadata": {
        "id": "PzMzygND21Y-"
      }
    },
    {
      "cell_type": "code",
      "source": [
        "base=float(input(\"Enter the base of the triangle: \"))\n",
        "height=float(input(\"Enter the height of the triangle: \"))\n",
        "\n",
        "area=0.5*base*height\n",
        "print(\"The area of the triangle is:\",area, \"cm2\")\n"
      ],
      "metadata": {
        "colab": {
          "base_uri": "https://localhost:8080/"
        },
        "id": "SWeKdhIu3H3e",
        "outputId": "d408457f-f99e-4869-efb6-941ba26d9235"
      },
      "execution_count": 105,
      "outputs": [
        {
          "output_type": "stream",
          "name": "stdout",
          "text": [
            "Enter the base of the triangle: 10\n",
            "Enter the height of the triangle: 6\n",
            "The area of the triangle is: 30.0 cm2\n"
          ]
        }
      ]
    },
    {
      "cell_type": "code",
      "source": [
        "Celsius=float(input(\"Enter the temperature in Celsius: \"))\n",
        "fahrenheit=(Celsius*9/5)+32\n",
        "print(\"The given temperature in Fahrenheit is: \",fahrenheit,\"F\")"
      ],
      "metadata": {
        "colab": {
          "base_uri": "https://localhost:8080/"
        },
        "id": "-0W-N-EL5QJf",
        "outputId": "caaf3df3-7335-4b08-cad7-2e0d94e1d6c7"
      },
      "execution_count": 107,
      "outputs": [
        {
          "output_type": "stream",
          "name": "stdout",
          "text": [
            "Enter the temperature in Celsius: 50\n",
            "The given temperature in Fahrenheit is:  122.0 F\n"
          ]
        }
      ]
    },
    {
      "cell_type": "code",
      "source": [
        "Coordinates=input(\"Enter the coordinates of the point(x1,y1,x2,y2): \")\n",
        "Coordinates = Coordinates.replace('(', '').replace(')', '').replace(' ', '')\n",
        "x1,x2,y1,y2= map(float, Coordinates.split(','))\n",
        "distance=((x2-x1)**2+(y2-y1)**2)**0.5\n",
        "print(\"The distance between the two points is: \",distance, \"cm\")"
      ],
      "metadata": {
        "colab": {
          "base_uri": "https://localhost:8080/"
        },
        "id": "-oxX6u9T6D0o",
        "outputId": "70b52a06-c537-4706-9d81-2b50b8bbbbab"
      },
      "execution_count": 122,
      "outputs": [
        {
          "output_type": "stream",
          "name": "stdout",
          "text": [
            "Enter the coordinates of the point(x1,y1,x2,y2): 6,7,2,3\n",
            "The distance between the two points is:  1.4142135623730951 cm\n"
          ]
        }
      ]
    },
    {
      "cell_type": "code",
      "source": [
        "value= 1\n",
        "print (value)"
      ],
      "metadata": {
        "colab": {
          "base_uri": "https://localhost:8080/"
        },
        "id": "cA4wtw26A0fQ",
        "outputId": "a0074dba-2796-44b3-c018-c8cdd3f9fb1c"
      },
      "execution_count": 125,
      "outputs": [
        {
          "output_type": "stream",
          "name": "stdout",
          "text": [
            "1\n"
          ]
        }
      ]
    }
  ]
}