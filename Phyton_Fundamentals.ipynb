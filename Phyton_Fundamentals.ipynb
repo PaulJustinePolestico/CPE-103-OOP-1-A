{
  "nbformat": 4,
  "nbformat_minor": 0,
  "metadata": {
    "colab": {
      "provenance": [],
      "authorship_tag": "ABX9TyPM+ZBOrOe0ofry04R/8zp4",
      "include_colab_link": true
    },
    "kernelspec": {
      "name": "python3",
      "display_name": "Python 3"
    },
    "language_info": {
      "name": "python"
    }
  },
  "cells": [
    {
      "cell_type": "markdown",
      "metadata": {
        "id": "view-in-github",
        "colab_type": "text"
      },
      "source": [
        "<a href=\"https://colab.research.google.com/github/PaulJustinePolestico/CPE-103-OOP-1-A/blob/main/Phyton_Fundamentals.ipynb\" target=\"_parent\"><img src=\"https://colab.research.google.com/assets/colab-badge.svg\" alt=\"Open In Colab\"/></a>"
      ]
    },
    {
      "cell_type": "markdown",
      "source": [],
      "metadata": {
        "id": "xhlNpgXYFkg_"
      }
    },
    {
      "cell_type": "markdown",
      "source": [
        "Python Indentation"
      ],
      "metadata": {
        "id": "Mu_vAef7FnVf"
      }
    },
    {
      "cell_type": "code",
      "source": [
        "if 2 <5:\n",
        "  print (\"Two is less than 5!\")"
      ],
      "metadata": {
        "colab": {
          "base_uri": "https://localhost:8080/"
        },
        "id": "h5f1Pa8iFvcv",
        "outputId": "d2e95cfa-3589-458d-a515-1fea348fc629"
      },
      "execution_count": 8,
      "outputs": [
        {
          "output_type": "stream",
          "name": "stdout",
          "text": [
            "Two is less than 5!\n"
          ]
        }
      ]
    },
    {
      "cell_type": "code",
      "source": [
        "x= 5\n",
        "y= 2\n",
        "if x > y:\n",
        "  print(\"5 is greater than 2!\")\n",
        "\n",
        "  if 2 < 5:\n",
        "    print (\"2 is less than 5!\")"
      ],
      "metadata": {
        "colab": {
          "base_uri": "https://localhost:8080/"
        },
        "id": "BOyyVrEQHo8H",
        "outputId": "6aba7c13-8cdc-487b-876b-9273a735c575"
      },
      "execution_count": 25,
      "outputs": [
        {
          "output_type": "stream",
          "name": "stdout",
          "text": [
            "5 is greater than 2!\n",
            "2 is less than 5!\n"
          ]
        }
      ]
    },
    {
      "cell_type": "markdown",
      "source": [
        "Phyton Comments"
      ],
      "metadata": {
        "id": "5qKtc_hzIrcY"
      }
    },
    {
      "cell_type": "code",
      "source": [
        "#This is a comment\n",
        "print (\"Hello World!\")"
      ],
      "metadata": {
        "colab": {
          "base_uri": "https://localhost:8080/"
        },
        "id": "dsIzgBrHGeXA",
        "outputId": "7e356b26-63e1-4cda-f757-5751bb201a22"
      },
      "execution_count": 19,
      "outputs": [
        {
          "output_type": "stream",
          "name": "stdout",
          "text": [
            "Hello, World!\n"
          ]
        }
      ]
    },
    {
      "cell_type": "markdown",
      "source": [
        "Phyton Variable"
      ],
      "metadata": {
        "id": "Q-tCj2UjKTz3"
      }
    },
    {
      "cell_type": "code",
      "source": [
        "z=1\n",
        "a,b=0,-1\n",
        "c= \"Sally\"\n",
        "\n",
        "print (a)\n",
        "print (b)\n",
        "print (c)"
      ],
      "metadata": {
        "colab": {
          "base_uri": "https://localhost:8080/"
        },
        "id": "zLWTzQ1VKXlX",
        "outputId": "1c7c963a-65bc-47b2-c089-2d1952004419"
      },
      "execution_count": 52,
      "outputs": [
        {
          "output_type": "stream",
          "name": "stdout",
          "text": [
            "0\n",
            "-1\n",
            "Sally\n"
          ]
        }
      ]
    },
    {
      "cell_type": "markdown",
      "source": [
        "Casting"
      ],
      "metadata": {
        "id": "i4EmVMl8MDDp"
      }
    },
    {
      "cell_type": "code",
      "source": [
        "b=\"sally\" #this is a type of string\n",
        "b=int (4)\n",
        "print (b)\n",
        "\n",
        "b= float(4)\n",
        "print (b)\n",
        "print (type (b))"
      ],
      "metadata": {
        "colab": {
          "base_uri": "https://localhost:8080/"
        },
        "id": "v6C1vUWJMEcG",
        "outputId": "4b087453-2568-4514-9117-f572c7dcb593"
      },
      "execution_count": 88,
      "outputs": [
        {
          "output_type": "stream",
          "name": "stdout",
          "text": [
            "4\n",
            "4.0\n",
            "<class 'float'>\n"
          ]
        }
      ]
    },
    {
      "cell_type": "markdown",
      "source": [
        "Type () function"
      ],
      "metadata": {
        "id": "lGFcMbZ6NDDR"
      }
    },
    {
      "cell_type": "code",
      "source": [
        "x= 5\n",
        "y=\"John\"\n",
        "print (type (x))\n",
        "print (type (y))"
      ],
      "metadata": {
        "colab": {
          "base_uri": "https://localhost:8080/"
        },
        "id": "LV7o3_48NGK_",
        "outputId": "9929e109-f9e5-44da-e116-8b6ecb9bc63a"
      },
      "execution_count": 89,
      "outputs": [
        {
          "output_type": "stream",
          "name": "stdout",
          "text": [
            "<class 'int'>\n",
            "<class 'str'>\n"
          ]
        }
      ]
    },
    {
      "cell_type": "markdown",
      "source": [
        "\"Double quotes\" or 'single' quotes"
      ],
      "metadata": {
        "id": "z4py8MsuN5g3"
      }
    },
    {
      "cell_type": "code",
      "source": [
        "x= \"John\"\n",
        "y= 'John'\n",
        "print (x)\n",
        "print (y)"
      ],
      "metadata": {
        "colab": {
          "base_uri": "https://localhost:8080/"
        },
        "id": "vfpJxv_ROCog",
        "outputId": "c9d69302-91d0-4605-d295-a56300a93432"
      },
      "execution_count": 90,
      "outputs": [
        {
          "output_type": "stream",
          "name": "stdout",
          "text": [
            "John\n",
            "John\n"
          ]
        }
      ]
    },
    {
      "cell_type": "markdown",
      "source": [
        "Case Sensitive"
      ],
      "metadata": {
        "id": "znK1dttYOXtQ"
      }
    },
    {
      "cell_type": "code",
      "source": [
        "a=4\n",
        "A=\"Sally\"\n",
        "#A will not overwrite a"
      ],
      "metadata": {
        "id": "OBOGPmEJOZsP"
      },
      "execution_count": 70,
      "outputs": []
    },
    {
      "cell_type": "markdown",
      "source": [
        "Multiple Variables"
      ],
      "metadata": {
        "id": "PJdOjrOLOyJn"
      }
    },
    {
      "cell_type": "code",
      "source": [
        "x,y,z=\"one\",\"two\",\"three\"\n",
        "print (x)\n",
        "print (y)\n",
        "print (z)"
      ],
      "metadata": {
        "colab": {
          "base_uri": "https://localhost:8080/"
        },
        "id": "aE4Yj60sO1Hw",
        "outputId": "022e5646-77e2-41a5-98a6-c48705edc5a5"
      },
      "execution_count": 87,
      "outputs": [
        {
          "output_type": "stream",
          "name": "stdout",
          "text": [
            "one\n",
            "two\n",
            "three\n"
          ]
        }
      ]
    },
    {
      "cell_type": "markdown",
      "source": [
        "One Value to Multiple Variables"
      ],
      "metadata": {
        "id": "k40tYoFhPIqn"
      }
    },
    {
      "cell_type": "code",
      "source": [
        "x=y=z= \"four\"\n",
        "print (x)\n",
        "print (y)\n",
        "print (z)"
      ],
      "metadata": {
        "colab": {
          "base_uri": "https://localhost:8080/"
        },
        "id": "uT3JVFOVPNGn",
        "outputId": "22e4b7fe-3c16-43aa-b693-e693e953e957"
      },
      "execution_count": 81,
      "outputs": [
        {
          "output_type": "stream",
          "name": "stdout",
          "text": [
            "four\n",
            "four\n",
            "four\n"
          ]
        }
      ]
    },
    {
      "cell_type": "markdown",
      "source": [
        "Output Variables"
      ],
      "metadata": {
        "id": "yxz1m8TfP18P"
      }
    },
    {
      "cell_type": "code",
      "source": [
        "x='enjoying'\n",
        "print ( \"Phyton programming is \" + x)"
      ],
      "metadata": {
        "colab": {
          "base_uri": "https://localhost:8080/"
        },
        "id": "xecqZifKP8-P",
        "outputId": "67e4c3b4-c612-47b9-97ed-1e018684c067"
      },
      "execution_count": 92,
      "outputs": [
        {
          "output_type": "stream",
          "name": "stdout",
          "text": [
            "Phyton programming is enjoying\n"
          ]
        }
      ]
    },
    {
      "cell_type": "markdown",
      "source": [
        "Arithmethic Operations"
      ],
      "metadata": {
        "id": "3svx6_W4RHxv"
      }
    },
    {
      "cell_type": "code",
      "source": [
        "#Exponentiation\n",
        "x=10\n",
        "y=3\n",
        "x**y"
      ],
      "metadata": {
        "colab": {
          "base_uri": "https://localhost:8080/"
        },
        "id": "GFbRS_XyQ2a3",
        "outputId": "b77c0c90-05c5-4313-825b-14af8d55414a"
      },
      "execution_count": 106,
      "outputs": [
        {
          "output_type": "execute_result",
          "data": {
            "text/plain": [
              "1000"
            ]
          },
          "metadata": {},
          "execution_count": 106
        }
      ]
    },
    {
      "cell_type": "markdown",
      "source": [
        "Assignment Operators"
      ],
      "metadata": {
        "id": "liWA4dw7SA3_"
      }
    },
    {
      "cell_type": "code",
      "source": [
        "x= 5\n",
        "x&3\n",
        "print (x)\n",
        "#Addition"
      ],
      "metadata": {
        "colab": {
          "base_uri": "https://localhost:8080/"
        },
        "id": "5Sxx2FQrSC1I",
        "outputId": "b707b30a-7c9a-41a4-a7ab-6092ee70b029"
      },
      "execution_count": 122,
      "outputs": [
        {
          "output_type": "stream",
          "name": "stdout",
          "text": [
            "5\n"
          ]
        }
      ]
    },
    {
      "cell_type": "markdown",
      "source": [
        "Comparison Operators"
      ],
      "metadata": {
        "id": "_opYn1omSsbg"
      }
    },
    {
      "cell_type": "code",
      "source": [
        "x=5\n",
        "y=6\n",
        "x<=y"
      ],
      "metadata": {
        "colab": {
          "base_uri": "https://localhost:8080/"
        },
        "id": "xbyHqNl1SvpG",
        "outputId": "ea8e4222-70e0-47ec-da35-0c61ff11c5ed"
      },
      "execution_count": 134,
      "outputs": [
        {
          "output_type": "execute_result",
          "data": {
            "text/plain": [
              "True"
            ]
          },
          "metadata": {},
          "execution_count": 134
        }
      ]
    },
    {
      "cell_type": "markdown",
      "source": [
        "Logical Operators"
      ],
      "metadata": {
        "id": "-UZ8QYEXTLOY"
      }
    },
    {
      "cell_type": "code",
      "source": [
        "X=4\n",
        "Y=5\n",
        "z=6\n",
        "x<y and z > x"
      ],
      "metadata": {
        "colab": {
          "base_uri": "https://localhost:8080/"
        },
        "id": "YsgCfqhETNVQ",
        "outputId": "0ffba775-4cc2-430d-d739-3b1ba9603443"
      },
      "execution_count": 141,
      "outputs": [
        {
          "output_type": "execute_result",
          "data": {
            "text/plain": [
              "True"
            ]
          },
          "metadata": {},
          "execution_count": 141
        }
      ]
    },
    {
      "cell_type": "markdown",
      "source": [
        "Identity Operators"
      ],
      "metadata": {
        "id": "Ndg5464qTz5_"
      }
    },
    {
      "cell_type": "code",
      "source": [
        "x=\"Hello\"\n",
        "y=\"World\"\n",
        "x is not y"
      ],
      "metadata": {
        "colab": {
          "base_uri": "https://localhost:8080/"
        },
        "id": "Px4tgNzyT4sw",
        "outputId": "2a9c8fab-6669-4d45-c616-50c97c075eaa"
      },
      "execution_count": 225,
      "outputs": [
        {
          "output_type": "execute_result",
          "data": {
            "text/plain": [
              "True"
            ]
          },
          "metadata": {},
          "execution_count": 225
        }
      ]
    },
    {
      "cell_type": "markdown",
      "source": [
        "Bitwise Operators"
      ],
      "metadata": {
        "id": "v5EsNFcgUNO5"
      }
    },
    {
      "cell_type": "code",
      "source": [
        "#decimal to binary\n",
        "#10==1010\n",
        "x= 10\n",
        "x<<1\n",
        "#print (x)"
      ],
      "metadata": {
        "colab": {
          "base_uri": "https://localhost:8080/"
        },
        "id": "8ZUHV0WLUPWg",
        "outputId": "c0d6c450-f529-4439-b40e-c7c9de31aecb"
      },
      "execution_count": 199,
      "outputs": [
        {
          "output_type": "execute_result",
          "data": {
            "text/plain": [
              "20"
            ]
          },
          "metadata": {},
          "execution_count": 199
        }
      ]
    },
    {
      "cell_type": "code",
      "source": [
        "#Application 1\n",
        "#AREA OF A Parallelogram\n",
        "x= input ()\n",
        "y= input ()\n",
        "area= int(x)*int(y)\n",
        "print (\"The area of the parallelogram is\",area, \"^2\")\n",
        "\n",
        "#AREA of a Triangle\n",
        "x= input ()\n",
        "y= input ()\n",
        "area= int(x)*int(y)/2\n",
        "print (\"The area of the triangle is\"  , area,  \"^2\")\n",
        "\n",
        "#Area of a Ellipse\n",
        "x= input ()\n",
        "y= input ()\n",
        "area= 3.14*int(x)*int(y)\n",
        "print (\"The area of the ellipse is\", area, \"^2\")\n",
        "\n",
        "\n",
        ""
      ],
      "metadata": {
        "colab": {
          "base_uri": "https://localhost:8080/"
        },
        "id": "EBkdBiHKYYLo",
        "outputId": "73004590-7da0-4902-c020-729d1d25ba9f"
      },
      "execution_count": 224,
      "outputs": [
        {
          "output_type": "stream",
          "name": "stdout",
          "text": [
            "2\n",
            "5\n",
            "The area of the parallelogram is 10 ^2\n",
            "3\n",
            "5\n",
            "The area of the triangle is 7.5 ^2\n",
            "5\n",
            "1\n",
            "The area of the ellipse is 15.700000000000001 ^2\n"
          ]
        }
      ]
    },
    {
      "cell_type": "code",
      "source": [],
      "metadata": {
        "id": "SqkeOu34bn-g"
      },
      "execution_count": null,
      "outputs": []
    }
  ]
}