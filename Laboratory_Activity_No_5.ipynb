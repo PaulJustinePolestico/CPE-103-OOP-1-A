{
  "nbformat": 4,
  "nbformat_minor": 0,
  "metadata": {
    "colab": {
      "provenance": [],
      "authorship_tag": "ABX9TyOLYyFAvtIy08HORVnsp4dU",
      "include_colab_link": true
    },
    "kernelspec": {
      "name": "python3",
      "display_name": "Python 3"
    },
    "language_info": {
      "name": "python"
    }
  },
  "cells": [
    {
      "cell_type": "markdown",
      "metadata": {
        "id": "view-in-github",
        "colab_type": "text"
      },
      "source": [
        "<a href=\"https://colab.research.google.com/github/PaulJustinePolestico/CPE-103-OOP-1-A/blob/main/Laboratory_Activity_No_5.ipynb\" target=\"_parent\"><img src=\"https://colab.research.google.com/assets/colab-badge.svg\" alt=\"Open In Colab\"/></a>"
      ]
    },
    {
      "cell_type": "markdown",
      "source": [
        "Procedure"
      ],
      "metadata": {
        "id": "gaiLpS_Hod78"
      }
    },
    {
      "cell_type": "code",
      "source": [
        "def function_name(parameter1,parameter2):\n",
        "\n",
        "\n",
        "    return value"
      ],
      "metadata": {
        "id": "9piwnCllphrl"
      },
      "execution_count": null,
      "outputs": []
    },
    {
      "cell_type": "markdown",
      "source": [
        "Exploring built-in functions"
      ],
      "metadata": {
        "id": "DZVgZfD1vAEr"
      }
    },
    {
      "cell_type": "code",
      "source": [
        "#Angle in Radians\n",
        "import math\n",
        "angle= input(\"Input the angle in degrees: \")\n",
        "angle = math.radians(float(angle))\n",
        "print(\"The angle in radians is: \",angle)"
      ],
      "metadata": {
        "colab": {
          "base_uri": "https://localhost:8080/"
        },
        "id": "zzTqS14ll5hE",
        "outputId": "5722c5dd-b070-44f8-e87f-20acbe0a9219"
      },
      "execution_count": null,
      "outputs": [
        {
          "output_type": "stream",
          "name": "stdout",
          "text": [
            "Input the angle in degrees: 189\n",
            "The angle in radians is:  3.2986722862692828\n"
          ]
        }
      ]
    },
    {
      "cell_type": "code",
      "source": [
        "#Propositional logic evaluator for discrete math for 2-3 variables\n",
        "print(\"Propositional logic evaluator for discrete math\")\n",
        "variables= int(input (\"How many variables? \"))\n",
        "total_combinations = 2**variables\n",
        "\n",
        "combinations_list= [] #Store all the possible combinations\n",
        "\n",
        "#generate the combinations\n",
        "for i in range(total_combinations):\n",
        "    bin_equivalent = bin(i)[2:]\n",
        "    while len(bin_equivalent) < variables:\n",
        "        bin_equivalent =\"0\" + bin_equivalent\n",
        "    combinations_list.append(tuple(int(val) for val in bin_equivalent))\n",
        "    #this will generate a list with values [(0,0),(0,1),(1,0),(1,1)]\n",
        "    #for two variables\n",
        "\n",
        " #main program\n",
        "\n",
        "expression = input(\"Enter the propositional logic expression: \")\n",
        "#note: Only the letters A,B,and C are allowed to be used\n",
        "# example: not(A and B) or (A and C)\n",
        "if variables == 2:\n",
        "  print(\"A B f\")\n",
        "  for A,B in combinations_list:\n",
        "   evaluated_expression = eval(expression)\n",
        "  print(A,B, evaluated_expression)\n",
        "\n",
        "elif variables == 3:\n",
        "  print(\"A B C f\")\n",
        "  for A,B,C in combinations_list:\n",
        "    evaluated_expression = eval(expression)\n",
        "    print(A,B,C, evaluated_expression)"
      ],
      "metadata": {
        "colab": {
          "base_uri": "https://localhost:8080/"
        },
        "id": "Jg1bxb7yqMrH",
        "outputId": "66a3260f-09d2-475c-e711-7c4537d4ea78"
      },
      "execution_count": null,
      "outputs": [
        {
          "output_type": "stream",
          "name": "stdout",
          "text": [
            "Propositional logic evaluator for discrete math\n",
            "How many variables? 3\n",
            "Enter the propositional logic expression: 0,1\n",
            "A B C f\n",
            "0 0 0 (0, 1)\n",
            "0 0 1 (0, 1)\n",
            "0 1 0 (0, 1)\n",
            "0 1 1 (0, 1)\n",
            "1 0 0 (0, 1)\n",
            "1 0 1 (0, 1)\n",
            "1 1 0 (0, 1)\n",
            "1 1 1 (0, 1)\n"
          ]
        }
      ]
    },
    {
      "cell_type": "code",
      "source": [
        "#Propositional logic evaluator for discrete math for 2-3 variables\n",
        "print(\"Propositional logic evaluator for discrete math\")\n",
        "variables= int(input (\"How many variables? \"))\n",
        "total_combinations = 2**variables\n",
        "\n",
        "combinations_list= [] #Store all the possible combinations\n",
        "\n",
        "#generate the combinations\n",
        "for i in range(total_combinations):\n",
        "    bin_equivalent = bin(i)[2:]\n",
        "    while len(bin_equivalent) < variables:\n",
        "        bin_equivalent =\"0\" + bin_equivalent\n",
        "    combinations_list.append(tuple(int(val) for val in bin_equivalent))\n",
        "    #this will generate a list with values [(0,0),(0,1),(1,0),(1,1)]\n",
        "    #for two variables\n",
        "\n",
        " #main program\n",
        "def evaluate_propositional_logic(combinations_list):\n",
        "  evaluate_propositional_logic(generate_truthtable(3))\n",
        "  print(evaluate_propositional_logic)\n",
        "if variables == 2:\n",
        "  print(\"A B f\")\n",
        "  for A,B in combinations_list:\n",
        "   evaluated_expression = eval(expression)\n",
        "  print(A,B, evaluated_expression)\n",
        "\n",
        "elif variables == 3:\n",
        "  print(\"A B C f\")\n",
        "  for A,B,C in combinations_list:\n",
        "    evaluated_expression = eval(expression)\n",
        "    print(A,B,C, evaluated_expression)"
      ],
      "metadata": {
        "colab": {
          "base_uri": "https://localhost:8080/"
        },
        "id": "-KcYBGFtC-K-",
        "outputId": "63dcfaff-da14-4f55-d0bb-1aa2c6c357d2"
      },
      "execution_count": null,
      "outputs": [
        {
          "output_type": "stream",
          "name": "stdout",
          "text": [
            "Propositional logic evaluator for discrete math\n",
            "How many variables? 2\n",
            "A B f\n",
            "1 1 (0, 1, 2)\n"
          ]
        }
      ]
    },
    {
      "cell_type": "markdown",
      "source": [
        "Using the open() function"
      ],
      "metadata": {
        "id": "_QlDE0TkvJbK"
      }
    },
    {
      "cell_type": "code",
      "source": [
        "#newfile1.txt\n",
        "name =\"Royce Chua\"\n",
        "file= open(\"newfile1.txt\",'w')\n",
        "file.write(f\"Hello, {name}!\\n\")\n",
        "file.write(\"Isn't this amazing!\\n\")\n",
        "file.write(\"that we can create and write on text files\\n\")\n",
        "file.write(\"using Phyton. \")\n",
        "file.close()"
      ],
      "metadata": {
        "id": "hEC4u9Y9vMvK"
      },
      "execution_count": null,
      "outputs": []
    },
    {
      "cell_type": "code",
      "source": [
        "#newfile2.txt\n",
        "text = \"This message was created using Phyton!\"\n",
        "file = open(\"newfile2.txt\",'w')\n",
        "file.write(text)\n",
        "file.close()"
      ],
      "metadata": {
        "id": "ZALaUYXpv3z8"
      },
      "execution_count": null,
      "outputs": []
    },
    {
      "cell_type": "code",
      "source": [
        "#filereader.py\n",
        "file = open(\"newfile2.txt\",'r')\n",
        "data = file.read()\n",
        "print(data)\n",
        "file.close()\n"
      ],
      "metadata": {
        "colab": {
          "base_uri": "https://localhost:8080/"
        },
        "outputId": "b875beed-3f0d-4b80-e496-a92244be47a8",
        "id": "MxTr5hc54qTq"
      },
      "execution_count": null,
      "outputs": [
        {
          "output_type": "stream",
          "name": "stdout",
          "text": [
            "This message was created using Phyton!and also written by the programmer of course.  and also written by the programmer of course. \n"
          ]
        }
      ]
    },
    {
      "cell_type": "code",
      "source": [
        "#filereader.py\n",
        "file = open(\"newfile2.txt\",'r')\n",
        "data = file.read(12)\n",
        "print(data)\n",
        "file.close()\n"
      ],
      "metadata": {
        "colab": {
          "base_uri": "https://localhost:8080/"
        },
        "id": "UUbEj-wf6E2K",
        "outputId": "a4cf0a0a-1575-4e91-a9c0-16a80c341a87"
      },
      "execution_count": null,
      "outputs": [
        {
          "output_type": "stream",
          "name": "stdout",
          "text": [
            "This message\n"
          ]
        }
      ]
    },
    {
      "cell_type": "code",
      "source": [
        "#fileappender.py\n",
        "file = open(\"newfile2.txt\",'a')\n",
        "file.write(\" and also written by the programmer of course. \")\n",
        "file.close()\n"
      ],
      "metadata": {
        "id": "wiRAFDHl6S1E"
      },
      "execution_count": null,
      "outputs": []
    },
    {
      "cell_type": "markdown",
      "source": [
        "User-Defined Functions"
      ],
      "metadata": {
        "id": "vGOt-dOj8y21"
      }
    },
    {
      "cell_type": "code",
      "source": [
        "#userfunctions\n",
        "#truthtablegenerator.py\n",
        "def generate_truthtable(number_of_variables):\n",
        "  total_combinations = 2**number_of_variables\n",
        "  combinations_list = []\n",
        "  for i in range(total_combinations):\n",
        "    bin_equivalent = bin(i)[2:]\n",
        "    while len(bin_equivalent)<number_of_variables:\n",
        "      bin_equivalent = \"0\" + bin_equivalent\n",
        "      combinations_list.append(tuple(int(val) for val in bin_equivalent))\n",
        "  return combinations_list\n",
        "\n",
        "\n",
        "print(generate_truthtable(3))"
      ],
      "metadata": {
        "colab": {
          "base_uri": "https://localhost:8080/"
        },
        "id": "6Y6f_73i82sN",
        "outputId": "38785faf-04b1-4c5c-ca69-09483f36bc32"
      },
      "execution_count": null,
      "outputs": [
        {
          "output_type": "stream",
          "name": "stdout",
          "text": [
            "[(0, 0), (0, 0, 0), (0, 1), (0, 0, 1), (0, 1, 0), (0, 1, 1)]\n"
          ]
        }
      ]
    },
    {
      "cell_type": "code",
      "source": [
        "#userfunctions\n",
        "#truthtablegenerator.py\n",
        "def generate_truthtable(number_of_variables=0):\n",
        "  if number_of_variables == 0:\n",
        "      return \"You need to enter an integer\"\n",
        "  else:\n",
        "   total_combinations = 2**number_of_variables\n",
        "  combinations_list = []\n",
        "  for i in range(total_combinations):\n",
        "    bin_equivalent = bin(i)[2:]\n",
        "    while len(bin_equivalent)<number_of_variables:\n",
        "      bin_equivalent = \"0\" + bin_equivalent\n",
        "      combinations_list.append(tuple(int(val) for val in bin_equivalent))\n",
        "  return combinations_list\n",
        "\n",
        "\n",
        "print(generate_truthtable(3))"
      ],
      "metadata": {
        "colab": {
          "base_uri": "https://localhost:8080/"
        },
        "id": "Ix7WyNGa_LNV",
        "outputId": "072f6d0b-5422-4b2b-95bd-1f8033defd45"
      },
      "execution_count": null,
      "outputs": [
        {
          "output_type": "stream",
          "name": "stdout",
          "text": [
            "[(0, 0), (0, 0, 0), (0, 1), (0, 0, 1), (0, 1, 0), (0, 1, 1)]\n"
          ]
        }
      ]
    },
    {
      "cell_type": "markdown",
      "source": [
        "Math Module"
      ],
      "metadata": {
        "id": "Xb0ui1UYD1-v"
      }
    },
    {
      "cell_type": "code",
      "source": [
        "#modules1\n",
        "#userfunctions\n",
        "#mathmodule.py\n",
        "import math\n",
        "def quadratic_formula(a,b,c):\n",
        "  if b**2-(4*a*c)<0:\n",
        "    x1 = (complex(-b,math.floor(math.sqrt(abs(b**2-(4*a*c))))))/2*a\n",
        "    x2 = (complex(-b,-1*math.floor(math.sqrt(abs(b**2-(4*a*c))))))/2*a\n",
        "    return x1, x2\n",
        "  else:\n",
        "   x1 = (-b+math.sqrt(b**2-(4*a*c)))/(2*a)\n",
        "   x2 = (-b-math.sqrt(b**2-(4*a*c)))/(2*a)\n",
        "   return x1, x2\n",
        "#print(quadratic_formula(1,12,32))\n",
        "print(quadratic_formula(1,2,3))"
      ],
      "metadata": {
        "colab": {
          "base_uri": "https://localhost:8080/"
        },
        "id": "0repnxEQFQjm",
        "outputId": "d63b046a-ceeb-4147-c488-006ebd1e0f04"
      },
      "execution_count": null,
      "outputs": [
        {
          "output_type": "stream",
          "name": "stdout",
          "text": [
            "((-1+1j), (-1-1j))\n"
          ]
        }
      ]
    },
    {
      "cell_type": "code",
      "source": [
        "#mathmodule2.py\n",
        "import math\n",
        "\n",
        "def angle_demo():\n",
        "  angle = math.sin(math.pi/2) #the default input is in radians\n",
        "  #angle sin(90)=1 in degrees == sin(pi/2)=1 in radians\n",
        "  print(angle)\n",
        "  # to make it convenient, convert to radians\n",
        "  angle = math.sin(math.radians(90))\n",
        "  print(angle)\n",
        "  # this is also similar for cosine and other trigonometric and\n",
        "  # hyperbolic functions\n",
        "angle_demo()\n"
      ],
      "metadata": {
        "colab": {
          "base_uri": "https://localhost:8080/"
        },
        "id": "SG_faP1SRTRV",
        "outputId": "bb1f7357-3b12-4928-d439-98747546e45e"
      },
      "execution_count": null,
      "outputs": [
        {
          "output_type": "stream",
          "name": "stdout",
          "text": [
            "1.0\n",
            "1.0\n"
          ]
        }
      ]
    },
    {
      "cell_type": "markdown",
      "source": [
        "Time and Datetime Module"
      ],
      "metadata": {
        "id": "Eh41bwNZSY9X"
      }
    },
    {
      "cell_type": "code",
      "source": [
        "#dateandtime.py\n",
        "\n",
        "import time\n",
        "def pause():\n",
        "  for i in range(10,0,-1):\n",
        "   print(f\"The program will end in {i}..\")\n",
        "   time.sleep(1)\n",
        "pause()\n",
        "\n",
        "def current_time():\n",
        "  t = time.strftime(\"%I:%M %p\")\n",
        "  return t\n",
        "print(current_time())\n",
        "\n",
        "def current_date():\n",
        "  d = time.strftime(\"%b %d %y\")\n",
        "  return d\n",
        "print(current_date())\n",
        "\n",
        "\n"
      ],
      "metadata": {
        "colab": {
          "base_uri": "https://localhost:8080/"
        },
        "id": "aW-_NFzWSbHm",
        "outputId": "6b16be44-d8ec-41c2-bfd4-ce4e29893f40"
      },
      "execution_count": null,
      "outputs": [
        {
          "output_type": "stream",
          "name": "stdout",
          "text": [
            "The program will end in 10..\n",
            "The program will end in 9..\n",
            "The program will end in 8..\n",
            "The program will end in 7..\n",
            "The program will end in 6..\n",
            "The program will end in 5..\n",
            "The program will end in 4..\n",
            "The program will end in 3..\n",
            "The program will end in 2..\n",
            "The program will end in 1..\n",
            "11:14 AM\n",
            "Feb 15 25\n"
          ]
        }
      ]
    },
    {
      "cell_type": "code",
      "source": [
        "#dateandtime.py\n",
        "\n",
        "import time\n",
        "def pause():\n",
        "  for i in range(10,0,-1):\n",
        "   print(f\"The program will end in {i}..\")\n",
        "   time.sleep(1)\n",
        "\n",
        "def current_time():\n",
        "  t = time.strftime(\"%I:%M %p\")\n",
        "  return t\n",
        "\n",
        "\n",
        "def current_date():\n",
        "  d = time.strftime(\"%b %d %y\")\n",
        "  return d\n",
        "\n"
      ],
      "metadata": {
        "id": "9CqMW8tFU-d3"
      },
      "execution_count": null,
      "outputs": []
    },
    {
      "cell_type": "markdown",
      "source": [
        "User-defined Modules\n"
      ],
      "metadata": {
        "id": "07HrOo5KUQPv"
      }
    },
    {
      "cell_type": "code",
      "source": [
        "#main.py\n",
        "import time\n",
        "print(\"The current time is\",current_time())\n",
        "print(\"The current date is\",current_date())\n",
        "\n",
        "\n",
        "\n",
        "\n"
      ],
      "metadata": {
        "colab": {
          "base_uri": "https://localhost:8080/"
        },
        "id": "3iMYRRqQUYlF",
        "outputId": "c68afc67-71bc-4773-a3b1-90b9a4c0891f"
      },
      "execution_count": null,
      "outputs": [
        {
          "output_type": "stream",
          "name": "stdout",
          "text": [
            "The current time is 11:39 AM\n",
            "The current date is Feb 15 25\n"
          ]
        }
      ]
    },
    {
      "cell_type": "markdown",
      "source": [
        "Supplementary Activity"
      ],
      "metadata": {
        "id": "3zvJ_JGxayew"
      }
    },
    {
      "cell_type": "code",
      "source": [
        "#Simple Word Filter\n",
        "sentence= input(\"Enter a sentence: \")\n",
        "words_to_filter= [\"stupid\", \"weak\", \"fool\"]\n",
        "filtered_sentence = sentence\n",
        "for word in words_to_filter:\n",
        "  filtered_sentence = filtered_sentence.replace(word, \"*\"*len(word))\n",
        "  print(filtered_sentence)\n",
        "\n"
      ],
      "metadata": {
        "colab": {
          "base_uri": "https://localhost:8080/"
        },
        "id": "1IYuFR0ga2pP",
        "outputId": "a5028643-8493-4560-867f-0a4aef004912"
      },
      "execution_count": null,
      "outputs": [
        {
          "output_type": "stream",
          "name": "stdout",
          "text": [
            "Enter a sentence: youre stupid\n",
            "youre ******\n",
            "youre ******\n",
            "youre ******\n"
          ]
        }
      ]
    },
    {
      "cell_type": "code",
      "source": [
        "#Projectile Motion Solver\n",
        "#projectilemotion.py\n",
        "import math\n",
        "given1= \"Inital Angle: 20.0 degrees above Horizontal\"\n",
        "given2= \"Inital Speed or Velocity: 11.0 meters per second or m/s\"\n",
        "print(given1)\n",
        "print(given2)\n",
        "question1= \"A.) How far does he jump in the horizontal direction?\"\n",
        "question2= \"B.) What is the maximum height reached?\"\n",
        "print(question1)\n",
        "print(question2)\n",
        "\n",
        "initial_angle= 20.0\n",
        "initial_velocity= 11.0\n",
        "g= 9.81\n",
        "\n",
        "\n"
      ],
      "metadata": {
        "id": "so9_0-PPhNFn",
        "colab": {
          "base_uri": "https://localhost:8080/"
        },
        "outputId": "a06961fb-90da-4b8d-9773-f31bf55b1684"
      },
      "execution_count": null,
      "outputs": [
        {
          "output_type": "stream",
          "name": "stdout",
          "text": [
            "Inital Angle: 20.0 degrees above Horizontal\n",
            "Inital Speed or Velocity: 11.0 meters per second or m/s\n",
            "A.) How far does he jump in the horizontal direction?\n",
            "B.) What is the maximum height reached?\n"
          ]
        }
      ]
    },
    {
      "cell_type": "code",
      "source": [
        "#main_program.py\n",
        "from math import sin, cos, radians\n",
        "angle_in_radians = math.radians(float(angle))\n",
        "print(\"The angle in radians is: \",angle_in_radians,\"\")\n",
        "\n",
        "#Distance Reached\n",
        "initial_distance= float(initial_distance)\n",
        "distance_reached= (initial_distance**2*sin(2*angle_in_radians))/g\n",
        "print(\"The distance reached is: \",distance_reached, \"Meter\")\n",
        "\n",
        "#Maximum Height\n",
        "initial_velocity= float(initial_velocity)\n",
        "maximum_height= (initial_velocity**2*sin(angle_in_radians))/(2*g)\n",
        "print(\"The maximum height reached is: \",maximum_height,\"Meter\")\n",
        "\n",
        "\n",
        "\n"
      ],
      "metadata": {
        "colab": {
          "base_uri": "https://localhost:8080/"
        },
        "id": "1OydV9PapbpF",
        "outputId": "9273869a-3026-4acd-a0a1-98439cf860b6"
      },
      "execution_count": null,
      "outputs": [
        {
          "output_type": "stream",
          "name": "stdout",
          "text": [
            "The angle in radians is:  0.3490658503988659 \n",
            "The distance reached is:  7.928369089915519 Meter\n",
            "The maximum height reached is:  2.1092985393682935 Meter\n"
          ]
        }
      ]
    },
    {
      "cell_type": "code",
      "source": [
        "#Quadratic Equation Solver\n",
        "import math\n",
        "def quadratic_formula(a,b,c):\n",
        "  a= float(eval(a))\n",
        "  b= float(eval(b))\n",
        "  c= float(eval(c))\n",
        "  if b**2-(4*a*c)<0:\n",
        "    x1 = (complex(-b,math.floor(math.sqrt(abs(b**2-(4*a*c))))))/2*a\n",
        "    x2 = (complex(-b,-1*math.floor(math.sqrt(abs(b**2-(4*a*c))))))/2*a\n",
        "    return x1, x2\n",
        "  else:\n",
        "   x1 = (-b+math.sqrt(b**2-(4*a*c)))/(2*a)\n",
        "   x2 = (-b-math.sqrt(b**2-(4*a*c)))/(2*a)\n",
        "   return x1, x2\n",
        "\n",
        "a= (input(\"Enter the value of a: \"))\n",
        "b= (input(\"Enter the value of b: \"))\n",
        "c= (input(\"Enter the value of c: \"))\n",
        "print(quadratic_formula(a,b,c))"
      ],
      "metadata": {
        "id": "0zcuuw_j0wmi",
        "colab": {
          "base_uri": "https://localhost:8080/"
        },
        "outputId": "c48ed43a-8f4f-44e9-c92d-7ebeacf2b639"
      },
      "execution_count": 30,
      "outputs": [
        {
          "output_type": "stream",
          "name": "stdout",
          "text": [
            "Enter the value of a: 2**2\n",
            "Enter the value of b: 3\n",
            "Enter the value of c: 5\n",
            "((-6+16j), (-6-16j))\n"
          ]
        }
      ]
    }
  ]
}