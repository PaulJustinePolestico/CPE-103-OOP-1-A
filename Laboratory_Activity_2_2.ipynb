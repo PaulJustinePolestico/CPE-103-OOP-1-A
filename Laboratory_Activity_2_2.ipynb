{
  "nbformat": 4,
  "nbformat_minor": 0,
  "metadata": {
    "colab": {
      "provenance": [],
      "authorship_tag": "ABX9TyMWPFiyYBCbwhnumyDUO58v",
      "include_colab_link": true
    },
    "kernelspec": {
      "name": "python3",
      "display_name": "Python 3"
    },
    "language_info": {
      "name": "python"
    }
  },
  "cells": [
    {
      "cell_type": "markdown",
      "metadata": {
        "id": "view-in-github",
        "colab_type": "text"
      },
      "source": [
        "<a href=\"https://colab.research.google.com/github/PaulJustinePolestico/CPE-103-OOP-1-A/blob/main/Laboratory_Activity_2_2.ipynb\" target=\"_parent\"><img src=\"https://colab.research.google.com/assets/colab-badge.svg\" alt=\"Open In Colab\"/></a>"
      ]
    },
    {
      "cell_type": "code",
      "source": [],
      "metadata": {
        "id": "nXF8uBCbJ9w_"
      },
      "execution_count": null,
      "outputs": []
    },
    {
      "cell_type": "code",
      "source": [
        "student= (input (\"Enter the Student's name: \"))\n",
        "\n",
        "HOA = float (input (\"Enter Hands-on Activity :\"))\n",
        "QUIZ= float (input (\"Enter Prelim Quiz: \"))\n",
        "ASSIGNMENT= float (input (\"Enter Prelim Assignment: \"))\n",
        "CLASSTANDING= HOA*.5 + QUIZ*.3 + ASSIGNMENT*.2\n",
        "print(\"The Student's Prelim Class Standing is: \", CLASSTANDING)\n",
        "\n",
        "PRELIMEX= float(input(\"Enter Prelim Exam Grade: \"))\n",
        "PRELIMGRADE = CLASSTANDING*.5 + PRELIMEX*.5\n",
        "print (\"The Student's Prelim Grade is: \", PRELIMGRADE)\n",
        "\n",
        "\n",
        "MIDEX= float(input(\"Enter Midterm Exam Grade: \"))\n",
        "\n",
        "MIDGRADE = PRELIMGRADE*.3 + (2/3 * (MIDEX*.5 + CLASSTANDING*.5))\n",
        "print (\"The Student's Midterm Grade is: \", MIDGRADE)\n",
        "\n",
        "\n",
        "\n",
        "FINALEX= float(input(\"Enter Final Exam Grade: \"))\n",
        "FINALGRADE = (MIDGRADE * 1/3) + (2/3 * (FINALEX*.5 + CLASSTANDING*.5))\n",
        "print (\"The Student's Final Grade is: \", FINALGRADE)\n",
        "\n",
        "\n",
        "if FINALGRADE >=99:\n",
        "    print(\" UCC NUMERICAL GRADE: 1.0\")\n",
        "\n",
        "elif FINALGRADE >=96:\n",
        "    print(\" UCC NUMERICAL GRADE: 1.25\")\n",
        "\n",
        "elif FINALGRADE >=93:\n",
        "    print(\" UCC NUMERICAL GRADE: 1.50\")\n",
        "\n",
        "elif FINALGRADE >=90:\n",
        "    print(\" UCC NUMERICAL GRADE: 1.75\")\n",
        "\n",
        "elif FINALGRADE >=87:\n",
        "    print(\" UCC NUMERICAL GRADE: 2.00\")\n",
        "\n",
        "elif FINALGRADE >=84:\n",
        "    print(\" UCC NUMERICAL GRADE: 2.25\")\n",
        "\n",
        "elif FINALGRADE >=81:\n",
        "    print(\" UCC NUMERICAL GRADE: 2.50\")\n",
        "\n",
        "elif FINALGRADE >=78:\n",
        "    print (\" UCC NUMERICAL GRADE: 2.75\")\n",
        "\n",
        "elif FINALGRADE >=75:\n",
        "    print(\" UCC NUMERICAL GRADE: 3.00\")\n",
        "\n",
        "elif FINALGRADE<=72:\n",
        "    print(\" UCC NUMERICAL GRADE: 4.00\")\n",
        "\n",
        "elif FINALGRADE<71:\n",
        "    print(\" UCC NUMERICAL GRADE: 5.00\")\n",
        "\n",
        "else:\n",
        "    print(\"INCOMPLETE\")"
      ],
      "metadata": {
        "colab": {
          "base_uri": "https://localhost:8080/"
        },
        "id": "cT5s9RiP8sQu",
        "outputId": "586de064-0c9e-47c5-a44c-15ed29766075"
      },
      "execution_count": null,
      "outputs": [
        {
          "output_type": "stream",
          "name": "stdout",
          "text": [
            "Enter the Student's name: David\n",
            "Enter Hands-on Activity :86\n",
            "Enter Prelim Quiz: 82\n",
            "Enter Prelim Assignment: 84\n",
            "The Student's Prelim Class Standing is:  84.39999999999999\n",
            "Enter Prelim Exam Grade: 87\n",
            "The Student's Prelim Grade is:  85.69999999999999\n",
            "Enter Midterm Exam Grade: 88\n",
            "The Student's Midterm Grade is:  83.17666666666665\n",
            "Enter Final Exam Grade: 89\n",
            "The Student's Final Grade is:  85.52555555555554\n",
            " UCC NUMERICAL GRADE: 2.25\n"
          ]
        }
      ]
    }
  ]
}