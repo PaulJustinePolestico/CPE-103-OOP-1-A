{
  "nbformat": 4,
  "nbformat_minor": 0,
  "metadata": {
    "colab": {
      "provenance": [],
      "authorship_tag": "ABX9TyO9d2iQhBrSNEdNfEE05Anr",
      "include_colab_link": true
    },
    "kernelspec": {
      "name": "python3",
      "display_name": "Python 3"
    },
    "language_info": {
      "name": "python"
    }
  },
  "cells": [
    {
      "cell_type": "markdown",
      "metadata": {
        "id": "view-in-github",
        "colab_type": "text"
      },
      "source": [
        "<a href=\"https://colab.research.google.com/github/PaulJustinePolestico/CPE-103-OOP-1-A/blob/main/Laboratory_Activity_No_7.ipynb\" target=\"_parent\"><img src=\"https://colab.research.google.com/assets/colab-badge.svg\" alt=\"Open In Colab\"/></a>"
      ]
    },
    {
      "cell_type": "markdown",
      "source": [
        "Procedure"
      ],
      "metadata": {
        "id": "t5RBlj5BmfrX"
      }
    },
    {
      "cell_type": "code",
      "execution_count": null,
      "metadata": {
        "colab": {
          "base_uri": "https://localhost:8080/"
        },
        "id": "vOh7WciMmLcy",
        "outputId": "9ba6fa8b-c1cd-48ea-d114-4e44f4af4c5b"
      },
      "outputs": [
        {
          "output_type": "stream",
          "name": "stdout",
          "text": [
            "Enter feet and inches of distance1: 15 180\n",
            "Enter feet and inches of distance2: 20 240\n",
            "Distance2 is greater or equal to Distance1\n",
            "Sum of the two Distance is:\n",
            "Feet=  36 Inches=  408\n"
          ]
        }
      ],
      "source": [
        "#Creating the Classes\n",
        "#polymorphism_a.ipynb\n",
        "\n",
        "\n",
        "# distance is a class. Distance is measured in terms of feet and inches\n",
        "class distance:\n",
        "    def __init__(self, f,i):\n",
        "        self.feet=f\n",
        "        self.inches=i\n",
        "    # overloading of binary operator > to compare two distances\n",
        "    def __gt__(self,d):\n",
        "        if(self.feet>d.feet):\n",
        "            return(True)\n",
        "        elif((self.feet==d.feet) and (self.inches>d.inches)):\n",
        "            return(True)\n",
        "        else:\n",
        "            return(False)\n",
        "    # overloading of binary operator + to add two distances\n",
        "    def __add__(self, d):\n",
        "        i=self.inches + d.inches\n",
        "        f=self.feet + d.feet\n",
        "        if(i>=12):\n",
        "            i=i-12\n",
        "            f=f+1\n",
        "        return distance(f,i)\n",
        "    # displaying the distance\n",
        "    def show(self):\n",
        "        print(\"Feet= \", self.feet, \"Inches= \",self.inches)\n",
        "a,b= (input(\"Enter feet and inches of distance1: \")).split()\n",
        "a,b =[int(a),int(b)]\n",
        "c,d= (input(\"Enter feet and inches of distance2: \")).split()\n",
        "c,d =[int(c),int(d)]\n",
        "d1 = distance(a,b)\n",
        "d2 = distance(c,d)\n",
        "if(d1>d2):\n",
        "    print(\"Distance1 is greater than Distance2\")\n",
        "else:\n",
        "    print(\"Distance2 is greater or equal to Distance1\")\n",
        "d3=d1+d2\n",
        "print(\"Sum of the two Distance is:\")\n",
        "d3.show()\n"
      ]
    },
    {
      "cell_type": "markdown",
      "source": [
        "Testing and Observing Polymorphism"
      ],
      "metadata": {
        "id": "3fbQx0HRU5FJ"
      }
    },
    {
      "cell_type": "code",
      "source": [
        "#polymorphism_b.ipynb\n",
        "class RegularPolygon:\n",
        "  def __init__(self, side):\n",
        "    self._side = side\n",
        "\n",
        "\n",
        "class Square(RegularPolygon):\n",
        "  def area (self):\n",
        "    return self._side * self._side\n",
        "\n",
        "class EquilateralTriangle(RegularPolygon):\n",
        "  def area(self):\n",
        "    return self._side * self._side * 0.433\n",
        "\n",
        "\n",
        "obj1= Square(4)\n",
        "obj2= EquilateralTriangle(3)\n",
        "\n",
        "print (obj1.area())\n",
        "print (obj2.area())\n",
        "\n"
      ],
      "metadata": {
        "colab": {
          "base_uri": "https://localhost:8080/"
        },
        "id": "26_kW1urUl8X",
        "outputId": "1937a72f-030c-48f5-c290-89520d6367cb"
      },
      "execution_count": 45,
      "outputs": [
        {
          "output_type": "stream",
          "name": "stdout",
          "text": [
            "16\n",
            "3.897\n"
          ]
        }
      ]
    },
    {
      "cell_type": "code",
      "source": [
        "#polymorphism_b.ipynb\n",
        "class RegularPolygon:\n",
        "  def __init__(self, side):\n",
        "    self._side = side\n",
        "\n",
        "\n",
        "class Square(RegularPolygon):\n",
        "  def area (self):\n",
        "    return self._side * self._side\n",
        "\n",
        "class EquilateralTriangle(RegularPolygon):\n",
        "  def area(self):\n",
        "    return self._side * self._side * 0.433\n",
        "\n",
        "class Pentagon(RegularPolygon):\n",
        "  def area(self):\n",
        "    return self._side * self._side * 1/4 * (5 * (5 - 2 ** (1/2))) / 2 #Calculates the area of a Regular Pentagon\n",
        "\n",
        "class Heptagon(RegularPolygon):\n",
        "  def area(self):\n",
        "    return 3.634 * self._side * self._side #Calculates the area of a Regular Heptagon\n",
        "\n",
        "class Octagon(RegularPolygon):\n",
        "  def area(self):\n",
        "    return 2 * (1+1.414) * self._side * self._side #Calculates the area of a Regular Octagon\n",
        "\n",
        "\n",
        "obj1= Square(4)\n",
        "obj2= EquilateralTriangle(3)\n",
        "obj3= Pentagon(5)\n",
        "ob4= Heptagon(7)\n",
        "obj5= Octagon(8)\n",
        "\n",
        "print (obj1.area())\n",
        "print (obj2.area())\n",
        "print (obj3.area())\n",
        "print (ob4.area())\n",
        "print (obj5.area())\n"
      ],
      "metadata": {
        "colab": {
          "base_uri": "https://localhost:8080/"
        },
        "id": "8YfjF_fGhKrP",
        "outputId": "ad78636e-b219-4358-8121-741508ec66b8"
      },
      "execution_count": 52,
      "outputs": [
        {
          "output_type": "stream",
          "name": "stdout",
          "text": [
            "16\n",
            "3.897\n",
            "56.02791308792039\n",
            "178.066\n",
            "308.99199999999996\n"
          ]
        }
      ]
    }
  ]
}