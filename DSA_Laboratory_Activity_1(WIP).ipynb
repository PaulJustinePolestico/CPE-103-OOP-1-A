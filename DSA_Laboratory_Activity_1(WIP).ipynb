class Polygon:
  def __init__(self, name,sides):
    self.name = name
    self.sides = sides
    
  def say_hi(self):
    print("Hello, my name is", self.name)

polygon1 = Polygon('Pentagon')
polygon2 = Polygon('Hexagon')
polygon3 = Polygon('Octagon')

polygon1.say_hi()
polygon2.say_hi()
polygon3.say_hi()

question = input ("Would you like to find the area of any of the three (Pentagon/Hexagon/Octagon)?")
if question == "yes":
  print ("Great! You may choose one now! :D")
